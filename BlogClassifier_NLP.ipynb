{
 "cells": [
  {
   "cell_type": "markdown",
   "metadata": {
    "id": "kNbKfwVq1v4V"
   },
   "source": [
    "***\n",
    "\n",
    "<font color='green'>\n",
    "\n",
    "# Project Solution: Statistical NLP (Part 1)\n",
    "\n",
    "#### Domain: Digital content management\n",
    "\n",
    "#### Context: Classification is probably the most popular task that you would deal with in real life. Text in the form of blogs, posts, articles, etc. is written every second. It is a challenge to predict the information about the writer without knowing about him/her. We are going to create a classifier that predicts multiple features of the author of a given text. We have designed it as a Multi label classification problem.\n",
    "\n",
    "#### Objective: Build a NLP classifier which can use input text parameters to determine the label(s) of of the blog.\n",
    "\n",
    "#### Dataset comprises of the Blog Authorship corpus consisting of the collected posts of 19,320 bloggers gathered from blogger.com in August 2004. The corpus incorporates a total of 681,284 posts and over 140 million words - or approximately 35 posts and 7250 words per person.\n",
    "\n",
    "#### All bloggers included in the corpus fall into one of three age groups:\n",
    "- 8240 \"10s\" blogs (ages 13-17),\n",
    "- 8086 \"20s\" blogs(ages 23-27) and\n",
    "- 2994 \"30s\" blogs (ages 33-47)\n",
    "\n",
    "#### For each age group, there is an equal number of male and female bloggers.\n",
    "#### Each blog in the corpus includes at least 200 occurrences of common English words. All formatting has been stripped with two exceptions. Individual posts within a single blogger are separated by the date of the following post and links within a post are denoted by the label url link.\n",
    "#### Source: https://www.kaggle.com/rtatman/blog-authorship-corpus\n",
    "\n",
    "#### Learning Outcome: Text data pre-processing (cleansing, vectorization etc.), train, tune and test the best classifier.\n",
    "***\n",
    "***\n",
    "*Prepared by: Sauvik De*\n",
    "\n",
    "*Date: September 12, 2021*\n",
    "    \n",
    "</font>\n",
    "\n",
    "***"
   ]
  },
  {
   "cell_type": "code",
   "execution_count": 1,
   "metadata": {
    "executionInfo": {
     "elapsed": 5030,
     "status": "ok",
     "timestamp": 1631413117349,
     "user": {
      "displayName": "Sauvik De",
      "photoUrl": "https://lh3.googleusercontent.com/a-/AOh14GjA41mUSR5Vp5tNHz71z1tO7sQJ2j-m0BM_Hp_oww=s64",
      "userId": "18190594405870803779"
     },
     "user_tz": -330
    },
    "id": "HVdnCeaw1v4Z"
   },
   "outputs": [],
   "source": [
    "# Import necessary libraries and functions/methods\n",
    "import numpy as np\n",
    "import pandas as pd\n",
    "import matplotlib.pyplot as plt\n",
    "import seaborn as sns\n",
    "from scipy import stats\n",
    "\n",
    "import re\n",
    "import nltk\n",
    "import spacy\n",
    "from collections import Counter\n",
    "\n",
    "from sklearn.model_selection import train_test_split\n",
    "from sklearn.feature_extraction.text import TfidfVectorizer\n",
    "from sklearn.preprocessing import MultiLabelBinarizer\n",
    "\n",
    "from sklearn.multiclass import OneVsRestClassifier\n",
    "from sklearn.linear_model import LogisticRegression\n",
    "from sklearn.naive_bayes import MultinomialNB\n",
    "from sklearn.svm import LinearSVC\n",
    "from sklearn.ensemble import RandomForestClassifier\n",
    "\n",
    "from sklearn.calibration import CalibratedClassifierCV\n",
    "\n",
    "from sklearn.metrics import hamming_loss, average_precision_score, f1_score, jaccard_score, classification_report\n",
    "\n",
    "#from sklearn.metrics import confusion_matrix, accuracy_score, classification_report, roc_auc_score"
   ]
  },
  {
   "cell_type": "code",
   "execution_count": 2,
   "metadata": {
    "executionInfo": {
     "elapsed": 13,
     "status": "ok",
     "timestamp": 1631413117351,
     "user": {
      "displayName": "Sauvik De",
      "photoUrl": "https://lh3.googleusercontent.com/a-/AOh14GjA41mUSR5Vp5tNHz71z1tO7sQJ2j-m0BM_Hp_oww=s64",
      "userId": "18190594405870803779"
     },
     "user_tz": -330
    },
    "id": "NV7dhxMd1v4b"
   },
   "outputs": [],
   "source": [
    "# Additional Settings:\n",
    "# =====================\n",
    "# suppress display of warnings\n",
    "import warnings\n",
    "warnings.filterwarnings('ignore')\n",
    "\n",
    "# display all dataframe columns\n",
    "pd.options.display.max_columns = None\n",
    "\n",
    "# to set the limit to 3 decimals\n",
    "pd.options.display.float_format = '{:.7f}'.format\n",
    "\n",
    "# display all dataframe rows\n",
    "pd.options.display.max_rows = None"
   ]
  },
  {
   "cell_type": "markdown",
   "metadata": {
    "id": "AYY1bbuF1v4c"
   },
   "source": [
    "#### Read in blog text datafile"
   ]
  },
  {
   "cell_type": "code",
   "execution_count": 3,
   "metadata": {
    "colab": {
     "base_uri": "https://localhost:8080/"
    },
    "executionInfo": {
     "elapsed": 39871,
     "status": "ok",
     "timestamp": 1631413157788,
     "user": {
      "displayName": "Sauvik De",
      "photoUrl": "https://lh3.googleusercontent.com/a-/AOh14GjA41mUSR5Vp5tNHz71z1tO7sQJ2j-m0BM_Hp_oww=s64",
      "userId": "18190594405870803779"
     },
     "user_tz": -330
    },
    "id": "WYXJElGM1v4c",
    "outputId": "992a2644-04fd-428c-dc6f-8cbdb3a065ef"
   },
   "outputs": [
    {
     "name": "stdout",
     "output_type": "stream",
     "text": [
      "Mounted at /content/drive\n",
      "/content/drive/MyDrive/AI-ML/NLP_Project/Blog_Authorship_Analysis\n"
     ]
    }
   ],
   "source": [
    "from google.colab import drive\n",
    "drive.mount('/content/drive')\n",
    "%cd '/content/drive/MyDrive/AI-ML/NLP_Project/Blog_Authorship_Analysis'\n",
    "blogs = pd.read_csv('Dataset - blogtext.csv')"
   ]
  },
  {
   "cell_type": "code",
   "execution_count": 4,
   "metadata": {
    "colab": {
     "base_uri": "https://localhost:8080/"
    },
    "executionInfo": {
     "elapsed": 91,
     "status": "ok",
     "timestamp": 1631413157790,
     "user": {
      "displayName": "Sauvik De",
      "photoUrl": "https://lh3.googleusercontent.com/a-/AOh14GjA41mUSR5Vp5tNHz71z1tO7sQJ2j-m0BM_Hp_oww=s64",
      "userId": "18190594405870803779"
     },
     "user_tz": -330
    },
    "id": "LMZhUvLp1v4d",
    "outputId": "3262507b-4092-4fac-9c65-9fd09e878447"
   },
   "outputs": [
    {
     "name": "stdout",
     "output_type": "stream",
     "text": [
      "Size of the dataframe: (681284, 7)\n"
     ]
    }
   ],
   "source": [
    "print('Size of the dataframe:', blogs.shape)"
   ]
  },
  {
   "cell_type": "code",
   "execution_count": 5,
   "metadata": {
    "colab": {
     "base_uri": "https://localhost:8080/",
     "height": 380
    },
    "executionInfo": {
     "elapsed": 80,
     "status": "ok",
     "timestamp": 1631413157793,
     "user": {
      "displayName": "Sauvik De",
      "photoUrl": "https://lh3.googleusercontent.com/a-/AOh14GjA41mUSR5Vp5tNHz71z1tO7sQJ2j-m0BM_Hp_oww=s64",
      "userId": "18190594405870803779"
     },
     "user_tz": -330
    },
    "id": "VDvQA_Yi1v4e",
    "outputId": "06c93481-9539-4631-e89b-a141980ea326"
   },
   "outputs": [
    {
     "name": "stdout",
     "output_type": "stream",
     "text": [
      "Check 10 random samples of blogs dataset:\n"
     ]
    },
    {
     "data": {
      "text/html": [
       "<div>\n",
       "<style scoped>\n",
       "    .dataframe tbody tr th:only-of-type {\n",
       "        vertical-align: middle;\n",
       "    }\n",
       "\n",
       "    .dataframe tbody tr th {\n",
       "        vertical-align: top;\n",
       "    }\n",
       "\n",
       "    .dataframe thead th {\n",
       "        text-align: right;\n",
       "    }\n",
       "</style>\n",
       "<table border=\"1\" class=\"dataframe\">\n",
       "  <thead>\n",
       "    <tr style=\"text-align: right;\">\n",
       "      <th></th>\n",
       "      <th>id</th>\n",
       "      <th>gender</th>\n",
       "      <th>age</th>\n",
       "      <th>topic</th>\n",
       "      <th>sign</th>\n",
       "      <th>date</th>\n",
       "      <th>text</th>\n",
       "    </tr>\n",
       "  </thead>\n",
       "  <tbody>\n",
       "    <tr>\n",
       "      <th>159106</th>\n",
       "      <td>3841794</td>\n",
       "      <td>male</td>\n",
       "      <td>17</td>\n",
       "      <td>indUnk</td>\n",
       "      <td>Gemini</td>\n",
       "      <td>05,August,2004</td>\n",
       "      <td>Tonight I was treated to dinner that wa...</td>\n",
       "    </tr>\n",
       "    <tr>\n",
       "      <th>317349</th>\n",
       "      <td>2966778</td>\n",
       "      <td>male</td>\n",
       "      <td>13</td>\n",
       "      <td>Student</td>\n",
       "      <td>Taurus</td>\n",
       "      <td>23,May,2004</td>\n",
       "      <td>The  urlLink McDonald's Go Active...</td>\n",
       "    </tr>\n",
       "    <tr>\n",
       "      <th>181901</th>\n",
       "      <td>3616080</td>\n",
       "      <td>female</td>\n",
       "      <td>17</td>\n",
       "      <td>Engineering</td>\n",
       "      <td>Aquarius</td>\n",
       "      <td>12,June,2004</td>\n",
       "      <td>It's my first time using th...</td>\n",
       "    </tr>\n",
       "    <tr>\n",
       "      <th>153076</th>\n",
       "      <td>4217949</td>\n",
       "      <td>female</td>\n",
       "      <td>16</td>\n",
       "      <td>indUnk</td>\n",
       "      <td>Cancer</td>\n",
       "      <td>13,August,2004</td>\n",
       "      <td>hey everyone      im current...</td>\n",
       "    </tr>\n",
       "    <tr>\n",
       "      <th>154210</th>\n",
       "      <td>1770781</td>\n",
       "      <td>female</td>\n",
       "      <td>24</td>\n",
       "      <td>Agriculture</td>\n",
       "      <td>Taurus</td>\n",
       "      <td>23,February,2004</td>\n",
       "      <td>Last week I was complimenting the...</td>\n",
       "    </tr>\n",
       "    <tr>\n",
       "      <th>24515</th>\n",
       "      <td>546850</td>\n",
       "      <td>male</td>\n",
       "      <td>24</td>\n",
       "      <td>indUnk</td>\n",
       "      <td>Aries</td>\n",
       "      <td>27,September,2002</td>\n",
       "      <td>- Image taken from www.thespark.com...</td>\n",
       "    </tr>\n",
       "    <tr>\n",
       "      <th>190056</th>\n",
       "      <td>1862467</td>\n",
       "      <td>female</td>\n",
       "      <td>27</td>\n",
       "      <td>indUnk</td>\n",
       "      <td>Cancer</td>\n",
       "      <td>23,January,2004</td>\n",
       "      <td>Renee over at  urlLink Like a Baby  alo...</td>\n",
       "    </tr>\n",
       "    <tr>\n",
       "      <th>144417</th>\n",
       "      <td>3422672</td>\n",
       "      <td>male</td>\n",
       "      <td>25</td>\n",
       "      <td>indUnk</td>\n",
       "      <td>Cancer</td>\n",
       "      <td>25,May,2004</td>\n",
       "      <td>Theres been some work done to the websi...</td>\n",
       "    </tr>\n",
       "    <tr>\n",
       "      <th>412003</th>\n",
       "      <td>1826362</td>\n",
       "      <td>male</td>\n",
       "      <td>27</td>\n",
       "      <td>Student</td>\n",
       "      <td>Aquarius</td>\n",
       "      <td>07,May,2004</td>\n",
       "      <td>Because I know that people only read th...</td>\n",
       "    </tr>\n",
       "    <tr>\n",
       "      <th>322751</th>\n",
       "      <td>2420099</td>\n",
       "      <td>male</td>\n",
       "      <td>25</td>\n",
       "      <td>Telecommunications</td>\n",
       "      <td>Pisces</td>\n",
       "      <td>17,March,2004</td>\n",
       "      <td>Well I get off of work to find ou...</td>\n",
       "    </tr>\n",
       "  </tbody>\n",
       "</table>\n",
       "</div>"
      ],
      "text/plain": [
       "             id  gender  age               topic      sign               date  \\\n",
       "159106  3841794    male   17              indUnk    Gemini     05,August,2004   \n",
       "317349  2966778    male   13             Student    Taurus        23,May,2004   \n",
       "181901  3616080  female   17         Engineering  Aquarius       12,June,2004   \n",
       "153076  4217949  female   16              indUnk    Cancer     13,August,2004   \n",
       "154210  1770781  female   24         Agriculture    Taurus   23,February,2004   \n",
       "24515    546850    male   24              indUnk     Aries  27,September,2002   \n",
       "190056  1862467  female   27              indUnk    Cancer    23,January,2004   \n",
       "144417  3422672    male   25              indUnk    Cancer        25,May,2004   \n",
       "412003  1826362    male   27             Student  Aquarius        07,May,2004   \n",
       "322751  2420099    male   25  Telecommunications    Pisces      17,March,2004   \n",
       "\n",
       "                                                     text  \n",
       "159106         Tonight I was treated to dinner that wa...  \n",
       "317349               The  urlLink McDonald's Go Active...  \n",
       "181901                     It's my first time using th...  \n",
       "153076                    hey everyone      im current...  \n",
       "154210               Last week I was complimenting the...  \n",
       "24515              - Image taken from www.thespark.com...  \n",
       "190056         Renee over at  urlLink Like a Baby  alo...  \n",
       "144417         Theres been some work done to the websi...  \n",
       "412003         Because I know that people only read th...  \n",
       "322751               Well I get off of work to find ou...  "
      ]
     },
     "execution_count": 5,
     "metadata": {},
     "output_type": "execute_result"
    }
   ],
   "source": [
    "print('Check 10 random samples of blogs dataset:')\n",
    "blogs.sample(n=10)"
   ]
  },
  {
   "cell_type": "code",
   "execution_count": 6,
   "metadata": {
    "colab": {
     "base_uri": "https://localhost:8080/"
    },
    "executionInfo": {
     "elapsed": 61,
     "status": "ok",
     "timestamp": 1631413157796,
     "user": {
      "displayName": "Sauvik De",
      "photoUrl": "https://lh3.googleusercontent.com/a-/AOh14GjA41mUSR5Vp5tNHz71z1tO7sQJ2j-m0BM_Hp_oww=s64",
      "userId": "18190594405870803779"
     },
     "user_tz": -330
    },
    "id": "ewvfwTda1v4e",
    "outputId": "02259fed-9a9d-4b14-d240-b695711cbb70"
   },
   "outputs": [
    {
     "name": "stdout",
     "output_type": "stream",
     "text": [
      "<class 'pandas.core.frame.DataFrame'>\n",
      "RangeIndex: 681284 entries, 0 to 681283\n",
      "Data columns (total 7 columns):\n",
      " #   Column  Non-Null Count   Dtype \n",
      "---  ------  --------------   ----- \n",
      " 0   id      681284 non-null  int64 \n",
      " 1   gender  681284 non-null  object\n",
      " 2   age     681284 non-null  int64 \n",
      " 3   topic   681284 non-null  object\n",
      " 4   sign    681284 non-null  object\n",
      " 5   date    681284 non-null  object\n",
      " 6   text    681284 non-null  object\n",
      "dtypes: int64(2), object(5)\n",
      "memory usage: 36.4+ MB\n"
     ]
    }
   ],
   "source": [
    "blogs.info()"
   ]
  },
  {
   "cell_type": "code",
   "execution_count": 7,
   "metadata": {
    "colab": {
     "base_uri": "https://localhost:8080/"
    },
    "executionInfo": {
     "elapsed": 51,
     "status": "ok",
     "timestamp": 1631413157798,
     "user": {
      "displayName": "Sauvik De",
      "photoUrl": "https://lh3.googleusercontent.com/a-/AOh14GjA41mUSR5Vp5tNHz71z1tO7sQJ2j-m0BM_Hp_oww=s64",
      "userId": "18190594405870803779"
     },
     "user_tz": -330
    },
    "id": "AJIbQ9QS1v4f",
    "outputId": "76600b9b-dfbe-4f8c-d032-3351f381f763"
   },
   "outputs": [
    {
     "data": {
      "text/plain": [
       "id        0\n",
       "gender    0\n",
       "age       0\n",
       "topic     0\n",
       "sign      0\n",
       "date      0\n",
       "text      0\n",
       "dtype: int64"
      ]
     },
     "execution_count": 7,
     "metadata": {},
     "output_type": "execute_result"
    }
   ],
   "source": [
    "blogs.isna().sum()"
   ]
  },
  {
   "cell_type": "markdown",
   "metadata": {
    "id": "FDJDuMWI1v4f"
   },
   "source": [
    "- Dataset consists of 6,81,284 blogs and for each blogger ID we are provided with gender, age, topic, sign, date and blog text.\n",
    "- Blogger ID and Age are numerical, while the rest of columns are non-numerical (date, cagtegorical - binary, nominal etc.).\n",
    "- There seems to be no missing data."
   ]
  },
  {
   "cell_type": "code",
   "execution_count": 8,
   "metadata": {
    "colab": {
     "base_uri": "https://localhost:8080/"
    },
    "executionInfo": {
     "elapsed": 41,
     "status": "ok",
     "timestamp": 1631413157800,
     "user": {
      "displayName": "Sauvik De",
      "photoUrl": "https://lh3.googleusercontent.com/a-/AOh14GjA41mUSR5Vp5tNHz71z1tO7sQJ2j-m0BM_Hp_oww=s64",
      "userId": "18190594405870803779"
     },
     "user_tz": -330
    },
    "id": "y0_vbqc61v4g",
    "outputId": "9bd18252-8f4c-4e03-f4f0-9b34f1d300da"
   },
   "outputs": [
    {
     "name": "stdout",
     "output_type": "stream",
     "text": [
      "Dataset consists of a total of 19320 bloggers.\n"
     ]
    }
   ],
   "source": [
    "print('Dataset consists of a total of', blogs['id'].nunique(), 'bloggers.')"
   ]
  },
  {
   "cell_type": "code",
   "execution_count": 9,
   "metadata": {
    "colab": {
     "base_uri": "https://localhost:8080/"
    },
    "executionInfo": {
     "elapsed": 9,
     "status": "ok",
     "timestamp": 1631413159941,
     "user": {
      "displayName": "Sauvik De",
      "photoUrl": "https://lh3.googleusercontent.com/a-/AOh14GjA41mUSR5Vp5tNHz71z1tO7sQJ2j-m0BM_Hp_oww=s64",
      "userId": "18190594405870803779"
     },
     "user_tz": -330
    },
    "id": "vgff5i1r1v4g",
    "outputId": "aceccfe7-9801-4f92-cbd8-8d657eef509d"
   },
   "outputs": [
    {
     "data": {
      "text/plain": [
       "male      9660\n",
       "female    9660\n",
       "Name: gender, dtype: int64"
      ]
     },
     "execution_count": 9,
     "metadata": {},
     "output_type": "execute_result"
    }
   ],
   "source": [
    "blogs[['gender', 'id']].drop_duplicates()['gender'].value_counts()"
   ]
  },
  {
   "cell_type": "code",
   "execution_count": 10,
   "metadata": {
    "colab": {
     "base_uri": "https://localhost:8080/"
    },
    "executionInfo": {
     "elapsed": 10,
     "status": "ok",
     "timestamp": 1631413162883,
     "user": {
      "displayName": "Sauvik De",
      "photoUrl": "https://lh3.googleusercontent.com/a-/AOh14GjA41mUSR5Vp5tNHz71z1tO7sQJ2j-m0BM_Hp_oww=s64",
      "userId": "18190594405870803779"
     },
     "user_tz": -330
    },
    "id": "WIiXfFWR1v4g",
    "outputId": "a6a52633-5cbd-4fb4-8167-f88fa01f5bd1"
   },
   "outputs": [
    {
     "name": "stdout",
     "output_type": "stream",
     "text": [
      "Gender frequency distribution considering blogs written:\n"
     ]
    },
    {
     "data": {
      "text/plain": [
       "male      345193\n",
       "female    336091\n",
       "Name: gender, dtype: int64"
      ]
     },
     "execution_count": 10,
     "metadata": {},
     "output_type": "execute_result"
    }
   ],
   "source": [
    "print('Gender frequency distribution considering blogs written:')\n",
    "blogs['gender'].value_counts()"
   ]
  },
  {
   "cell_type": "markdown",
   "metadata": {
    "id": "Ayq1nSaw1v4h"
   },
   "source": [
    "- While there are equal no. of males and females in the dataset, there are marginally higher number (9104, 2.7% higher) of blogs written by males vs females."
   ]
  },
  {
   "cell_type": "code",
   "execution_count": 11,
   "metadata": {
    "colab": {
     "base_uri": "https://localhost:8080/"
    },
    "executionInfo": {
     "elapsed": 14,
     "status": "ok",
     "timestamp": 1631413163470,
     "user": {
      "displayName": "Sauvik De",
      "photoUrl": "https://lh3.googleusercontent.com/a-/AOh14GjA41mUSR5Vp5tNHz71z1tO7sQJ2j-m0BM_Hp_oww=s64",
      "userId": "18190594405870803779"
     },
     "user_tz": -330
    },
    "id": "WJStIQNm1v4h",
    "outputId": "ce67ce7f-03d2-4ad2-acf1-e6d91c2daa25"
   },
   "outputs": [
    {
     "data": {
      "text/plain": [
       "count   681284.0000000\n",
       "mean        23.9323263\n",
       "std          7.7860087\n",
       "min         13.0000000\n",
       "25%         17.0000000\n",
       "50%         24.0000000\n",
       "75%         26.0000000\n",
       "max         48.0000000\n",
       "Name: age, dtype: float64"
      ]
     },
     "execution_count": 11,
     "metadata": {},
     "output_type": "execute_result"
    }
   ],
   "source": [
    "blogs['age'].describe()"
   ]
  },
  {
   "cell_type": "code",
   "execution_count": 12,
   "metadata": {
    "colab": {
     "base_uri": "https://localhost:8080/"
    },
    "executionInfo": {
     "elapsed": 10,
     "status": "ok",
     "timestamp": 1631413163472,
     "user": {
      "displayName": "Sauvik De",
      "photoUrl": "https://lh3.googleusercontent.com/a-/AOh14GjA41mUSR5Vp5tNHz71z1tO7sQJ2j-m0BM_Hp_oww=s64",
      "userId": "18190594405870803779"
     },
     "user_tz": -330
    },
    "id": "k06MxCE01v4h",
    "outputId": "6a707cf7-1569-49a1-f289-1c1c42acb163"
   },
   "outputs": [
    {
     "name": "stdout",
     "output_type": "stream",
     "text": [
      "Age of bloggers available in the dataset:\n"
     ]
    },
    {
     "data": {
      "text/plain": [
       "array([13, 14, 15, 16, 17, 23, 24, 25, 26, 27, 33, 34, 35, 36, 37, 38, 39,\n",
       "       40, 41, 42, 43, 44, 45, 46, 47, 48])"
      ]
     },
     "execution_count": 12,
     "metadata": {},
     "output_type": "execute_result"
    }
   ],
   "source": [
    "print('Age of bloggers available in the dataset:')\n",
    "np.array(pd.Series(blogs['age'].unique()).sort_values())"
   ]
  },
  {
   "cell_type": "code",
   "execution_count": 13,
   "metadata": {
    "colab": {
     "base_uri": "https://localhost:8080/"
    },
    "executionInfo": {
     "elapsed": 10,
     "status": "ok",
     "timestamp": 1631413163962,
     "user": {
      "displayName": "Sauvik De",
      "photoUrl": "https://lh3.googleusercontent.com/a-/AOh14GjA41mUSR5Vp5tNHz71z1tO7sQJ2j-m0BM_Hp_oww=s64",
      "userId": "18190594405870803779"
     },
     "user_tz": -330
    },
    "id": "n9DQWBhR1v4h",
    "outputId": "ab14cc26-006d-481f-acec-58fd5971dc59"
   },
   "outputs": [
    {
     "name": "stdout",
     "output_type": "stream",
     "text": [
      "No. of bloggers with age between 13 and 17: 8240\n",
      "No. of bloggers with age between 23 and 27: 8086\n",
      "No. of bloggers with age between 33 and 48: 2994\n",
      "\n",
      "Gender distribution [Age-group 13-17]:\n",
      "female    4120\n",
      "male      4120\n",
      "Name: gender, dtype: int64\n",
      "\n",
      "Gender distribution [Age-group 23-27]:\n",
      "female    4043\n",
      "male      4043\n",
      "Name: gender, dtype: int64\n",
      "\n",
      "Gender distribution [Age-group 33-48]:\n",
      "female    1497\n",
      "male      1497\n",
      "Name: gender, dtype: int64\n"
     ]
    }
   ],
   "source": [
    "temp = blogs[['age', 'gender', 'id']].drop_duplicates()\n",
    "\n",
    "agegrp1 = temp[((temp['age'] >= 13) & (temp['age'] <= 17))]\n",
    "agegrp2 = temp[((temp['age'] >= 23) & (temp['age'] <= 27))]\n",
    "agegrp3 = temp[((temp['age'] >= 33) & (temp['age'] <= 48))]\n",
    "\n",
    "print('No. of bloggers with age between 13 and 17:', agegrp1.shape[0])\n",
    "print('No. of bloggers with age between 23 and 27:', agegrp2.shape[0])\n",
    "print('No. of bloggers with age between 33 and 48:', agegrp3.shape[0])\n",
    "\n",
    "print('\\nGender distribution [Age-group 13-17]:')\n",
    "print(agegrp1['gender'].value_counts())\n",
    "\n",
    "print('\\nGender distribution [Age-group 23-27]:')\n",
    "print(agegrp2['gender'].value_counts())\n",
    "\n",
    "print('\\nGender distribution [Age-group 33-48]:')\n",
    "print(agegrp3['gender'].value_counts())"
   ]
  },
  {
   "cell_type": "code",
   "execution_count": 14,
   "metadata": {
    "colab": {
     "base_uri": "https://localhost:8080/",
     "height": 279
    },
    "executionInfo": {
     "elapsed": 5354,
     "status": "ok",
     "timestamp": 1631413169946,
     "user": {
      "displayName": "Sauvik De",
      "photoUrl": "https://lh3.googleusercontent.com/a-/AOh14GjA41mUSR5Vp5tNHz71z1tO7sQJ2j-m0BM_Hp_oww=s64",
      "userId": "18190594405870803779"
     },
     "user_tz": -330
    },
    "id": "PHH4WGwd1v4i",
    "outputId": "87ab1f70-33d3-4e8c-fcf9-c56ddb863f64"
   },
   "outputs": [
    {
     "data": {
      "image/png": "[encoded data removed]",
      "text/plain": [
       "<Figure size 432x288 with 1 Axes>"
      ]
     },
     "metadata": {
      "needs_background": "light"
     },
     "output_type": "display_data"
    }
   ],
   "source": [
    "_ = sns.distplot(blogs['age'])"
   ]
  },
  {
   "cell_type": "markdown",
   "metadata": {
    "id": "605YH8GF1v4j"
   },
   "source": [
    "- It is clearly evident that there are three age groups in the dataset - one centering around age 15 (age group 13-17), another centering around age 25 (age group 23-27) and the other centering around age 40 (age group 33-48)\n",
    "- Out of a total of 19320 bloggers, there are 8240 people in the youngest age-group, 8086 in adult age-group, and 2994 in the elderly age-group with an equal proportion of males and females within each age-group.\n",
    "- We will convert age column from numeric to categorical using three logical groups"
   ]
  },
  {
   "cell_type": "code",
   "execution_count": 15,
   "metadata": {
    "colab": {
     "base_uri": "https://localhost:8080/"
    },
    "executionInfo": {
     "elapsed": 39,
     "status": "ok",
     "timestamp": 1631413169947,
     "user": {
      "displayName": "Sauvik De",
      "photoUrl": "https://lh3.googleusercontent.com/a-/AOh14GjA41mUSR5Vp5tNHz71z1tO7sQJ2j-m0BM_Hp_oww=s64",
      "userId": "18190594405870803779"
     },
     "user_tz": -330
    },
    "id": "qLtAATgF1v4j",
    "outputId": "a413070c-1d40-4501-f11c-51f609f34ec3"
   },
   "outputs": [
    {
     "name": "stdout",
     "output_type": "stream",
     "text": [
      "There are 40 topics available in the dataset.\n",
      "\n",
      "Followings are the topics:\n",
      "['Student' 'InvestmentBanking' 'indUnk' 'Non-Profit' 'Banking' 'Education'\n",
      " 'Engineering' 'Science' 'Communications-Media' 'BusinessServices'\n",
      " 'Sports-Recreation' 'Arts' 'Internet' 'Museums-Libraries' 'Accounting'\n",
      " 'Technology' 'Law' 'Consulting' 'Automotive' 'Religion' 'Fashion'\n",
      " 'Publishing' 'Marketing' 'LawEnforcement-Security' 'HumanResources'\n",
      " 'Telecommunications' 'Military' 'Government' 'Transportation'\n",
      " 'Architecture' 'Advertising' 'Agriculture' 'Biotech' 'RealEstate'\n",
      " 'Manufacturing' 'Construction' 'Chemicals' 'Maritime' 'Tourism'\n",
      " 'Environment']\n"
     ]
    }
   ],
   "source": [
    "print('There are', blogs['topic'].nunique(), 'topics available in the dataset.')\n",
    "print('\\nFollowings are the topics:')\n",
    "print(blogs['topic'].unique())"
   ]
  },
  {
   "cell_type": "code",
   "execution_count": 16,
   "metadata": {
    "colab": {
     "base_uri": "https://localhost:8080/"
    },
    "executionInfo": {
     "elapsed": 34,
     "status": "ok",
     "timestamp": 1631413169948,
     "user": {
      "displayName": "Sauvik De",
      "photoUrl": "https://lh3.googleusercontent.com/a-/AOh14GjA41mUSR5Vp5tNHz71z1tO7sQJ2j-m0BM_Hp_oww=s64",
      "userId": "18190594405870803779"
     },
     "user_tz": -330
    },
    "id": "F4eFnlda1v4j",
    "outputId": "fb5eb72b-425c-4857-8f71-dc2723f7140b"
   },
   "outputs": [
    {
     "name": "stdout",
     "output_type": "stream",
     "text": [
      "Top 10 frequently occurring topics:\n",
      "indUnk                 0.3684440\n",
      "Student                0.2259014\n",
      "Technology             0.0617290\n",
      "Arts                   0.0476292\n",
      "Education              0.0434958\n",
      "Communications-Media   0.0295618\n",
      "Internet               0.0234939\n",
      "Non-Profit             0.0215769\n",
      "Engineering            0.0171045\n",
      "Law                    0.0132691\n",
      "Name: topic, dtype: float64\n"
     ]
    }
   ],
   "source": [
    "print('Top 10 frequently occurring topics:')\n",
    "print(blogs['topic'].value_counts(normalize=True).head(10))"
   ]
  },
  {
   "cell_type": "code",
   "execution_count": 17,
   "metadata": {
    "colab": {
     "base_uri": "https://localhost:8080/"
    },
    "executionInfo": {
     "elapsed": 26,
     "status": "ok",
     "timestamp": 1631413169949,
     "user": {
      "displayName": "Sauvik De",
      "photoUrl": "https://lh3.googleusercontent.com/a-/AOh14GjA41mUSR5Vp5tNHz71z1tO7sQJ2j-m0BM_Hp_oww=s64",
      "userId": "18190594405870803779"
     },
     "user_tz": -330
    },
    "id": "03QdeEYixFbE",
    "outputId": "3dfa3b26-be57-42cf-ad3f-c8012b5357e2"
   },
   "outputs": [
    {
     "name": "stdout",
     "output_type": "stream",
     "text": [
      "Top 10 frequently occurring topics within male cohort:\n"
     ]
    },
    {
     "data": {
      "text/plain": [
       "indUnk                 0.3040502\n",
       "Student                0.2228174\n",
       "Technology             0.1035131\n",
       "Education              0.0408351\n",
       "Arts                   0.0391144\n",
       "Communications-Media   0.0377789\n",
       "Internet               0.0343489\n",
       "Engineering            0.0222281\n",
       "Non-Profit             0.0210607\n",
       "Law                    0.0145020\n",
       "Name: topic, dtype: float64"
      ]
     },
     "execution_count": 17,
     "metadata": {},
     "output_type": "execute_result"
    }
   ],
   "source": [
    "print('Top 10 frequently occurring topics within male cohort:')\n",
    "blogs.loc[blogs['gender']=='male', 'topic'].value_counts(normalize=True).head(10)"
   ]
  },
  {
   "cell_type": "code",
   "execution_count": 18,
   "metadata": {
    "colab": {
     "base_uri": "https://localhost:8080/"
    },
    "executionInfo": {
     "elapsed": 18,
     "status": "ok",
     "timestamp": 1631413169949,
     "user": {
      "displayName": "Sauvik De",
      "photoUrl": "https://lh3.googleusercontent.com/a-/AOh14GjA41mUSR5Vp5tNHz71z1tO7sQJ2j-m0BM_Hp_oww=s64",
      "userId": "18190594405870803779"
     },
     "user_tz": -330
    },
    "id": "77Xq5WR33YyO",
    "outputId": "f45df32a-acb1-45c3-83c6-e64fd34aefa4"
   },
   "outputs": [
    {
     "name": "stdout",
     "output_type": "stream",
     "text": [
      "Top 10 frequently occurring topics within female cohort:\n"
     ]
    },
    {
     "data": {
      "text/plain": [
       "indUnk                 0.4345817\n",
       "Student                0.2290689\n",
       "Arts                   0.0563746\n",
       "Education              0.0462286\n",
       "Non-Profit             0.0221071\n",
       "Communications-Media   0.0211223\n",
       "Technology             0.0188134\n",
       "Internet               0.0123449\n",
       "Law                    0.0120027\n",
       "Engineering            0.0118420\n",
       "Name: topic, dtype: float64"
      ]
     },
     "execution_count": 18,
     "metadata": {},
     "output_type": "execute_result"
    }
   ],
   "source": [
    "print('Top 10 frequently occurring topics within female cohort:')\n",
    "blogs.loc[blogs['gender']=='female', 'topic'].value_counts(normalize=True).head(10)"
   ]
  },
  {
   "cell_type": "markdown",
   "metadata": {
    "id": "-qk8cRcm1v4k"
   },
   "source": [
    "- Majority of the topics seem to be indUnk (i.e., Industry Unknown) in the population. We will use this as a one 'valid' category for our analysis.\n",
    "- Out of the remaining 39 topics, Student, Technology, Arts and Education being the most common topics.\n",
    "- Student is the most common topic within both the male and female cohorts\n",
    "- Technology is the next most common topic among male bloggers; while Arts is the next most common topic among female bloggers"
   ]
  },
  {
   "cell_type": "code",
   "execution_count": 19,
   "metadata": {
    "colab": {
     "base_uri": "https://localhost:8080/"
    },
    "executionInfo": {
     "elapsed": 611,
     "status": "ok",
     "timestamp": 1631413171178,
     "user": {
      "displayName": "Sauvik De",
      "photoUrl": "https://lh3.googleusercontent.com/a-/AOh14GjA41mUSR5Vp5tNHz71z1tO7sQJ2j-m0BM_Hp_oww=s64",
      "userId": "18190594405870803779"
     },
     "user_tz": -330
    },
    "id": "YIGg8bko1v4k",
    "outputId": "d183d0ea-74aa-4345-dc95-eb17fd2bba10"
   },
   "outputs": [
    {
     "name": "stdout",
     "output_type": "stream",
     "text": [
      "Bloggers have 12 signs available in the data\n",
      "\n",
      "Frequency distribution of signs across bloggers:\n",
      "Virgo          1783\n",
      "Cancer         1722\n",
      "Libra          1700\n",
      "Taurus         1645\n",
      "Scorpio        1631\n",
      "Leo            1619\n",
      "Aries          1597\n",
      "Gemini         1595\n",
      "Pisces         1580\n",
      "Sagittarius    1549\n",
      "Aquarius       1474\n",
      "Capricorn      1425\n",
      "Name: sign, dtype: int64\n"
     ]
    }
   ],
   "source": [
    "print('Bloggers have', blogs['sign'].nunique(),'signs available in the data')\n",
    "\n",
    "temp = blogs[['sign', 'id']].drop_duplicates()\n",
    "print('\\nFrequency distribution of signs across bloggers:')\n",
    "signFreq = temp['sign'].value_counts()\n",
    "print(signFreq)"
   ]
  },
  {
   "cell_type": "code",
   "execution_count": 20,
   "metadata": {
    "colab": {
     "base_uri": "https://localhost:8080/",
     "height": 336
    },
    "executionInfo": {
     "elapsed": 516,
     "status": "ok",
     "timestamp": 1631413172194,
     "user": {
      "displayName": "Sauvik De",
      "photoUrl": "https://lh3.googleusercontent.com/a-/AOh14GjA41mUSR5Vp5tNHz71z1tO7sQJ2j-m0BM_Hp_oww=s64",
      "userId": "18190594405870803779"
     },
     "user_tz": -330
    },
    "id": "XySXsEhv1v4k",
    "outputId": "b8111d2d-b795-43cb-a795-66d115f1f275"
   },
   "outputs": [
    {
     "data": {
      "image/png": "[encoded data removed]",
      "text/plain": [
       "<Figure size 792x360 with 1 Axes>"
      ]
     },
     "metadata": {
      "needs_background": "light"
     },
     "output_type": "display_data"
    }
   ],
   "source": [
    "plt.figure(figsize=(11,5))\n",
    "_ = sns.barplot(x=signFreq.index, y=signFreq.values)\n",
    "_ = plt.title('Distribution of signs across bloggers')"
   ]
  },
  {
   "cell_type": "markdown",
   "metadata": {
    "id": "X-PjagPj1v4k"
   },
   "source": [
    "- Signs are well spread / balanced across bloggers with virgo, cancer and libra being the 3 most common signs while capricorn, aquarius and sagittarius being the 3 least common signs"
   ]
  },
  {
   "cell_type": "code",
   "execution_count": 21,
   "metadata": {
    "colab": {
     "base_uri": "https://localhost:8080/"
    },
    "executionInfo": {
     "elapsed": 468,
     "status": "ok",
     "timestamp": 1631413173591,
     "user": {
      "displayName": "Sauvik De",
      "photoUrl": "https://lh3.googleusercontent.com/a-/AOh14GjA41mUSR5Vp5tNHz71z1tO7sQJ2j-m0BM_Hp_oww=s64",
      "userId": "18190594405870803779"
     },
     "user_tz": -330
    },
    "id": "5YWd2JhK1v4l",
    "outputId": "6a854c92-50b3-44de-b9b0-6be51e257bc4"
   },
   "outputs": [
    {
     "name": "stdout",
     "output_type": "stream",
     "text": [
      "Months for blogs written:\n"
     ]
    },
    {
     "data": {
      "text/plain": [
       "array(['May', 'June', 'July', 'August', 'September', 'October',\n",
       "       'November', 'December', 'January', 'February', 'March', 'April',\n",
       "       'julio', 'Mai', 'mars', 'mai', 'juin', 'juillet', 'Julho',\n",
       "       'Agosto', 'Junho', 'junio', 'agosto', 'Juli', 'abril', 'mayo',\n",
       "       'septiembre', 'Januar', 'Februar', 'Juni', 'mei', 'juli',\n",
       "       'febrero', 'marzo', 'octubre', 'giugno', 'luglio', 'janvier',\n",
       "       'avril', 'septembre', 'octobre', 'novembre', 'augusti', 'juni',\n",
       "       'Aprill', 'augustus', 'Dezember', 'maj', '', 'Maio', 'septembrie',\n",
       "       'noiembrie', 'ianuarie', 'februarie', 'iulie', 'august', 'Avgust',\n",
       "       'september', 'ottobre', 'Jaanuar', 'Juuni', 'Juuli', 'Setembro',\n",
       "       'Novembro', 'czerwiec', 'lipiec', 'kolovoz', 'lipanj', 'noviembre',\n",
       "       'diciembre', 'enero', 'Outubro', 'Dezembro', 'Janeiro',\n",
       "       'Fevereiro', 'Abril', 'desember', 'toukokuu', 'elokuu', 'maart'],\n",
       "      dtype=object)"
      ]
     },
     "execution_count": 21,
     "metadata": {},
     "output_type": "execute_result"
    }
   ],
   "source": [
    "print('Months for blogs written:')\n",
    "blogs['date'].apply(lambda x: x.split(',')[1]).unique()"
   ]
  },
  {
   "cell_type": "code",
   "execution_count": 22,
   "metadata": {
    "colab": {
     "base_uri": "https://localhost:8080/"
    },
    "executionInfo": {
     "elapsed": 428,
     "status": "ok",
     "timestamp": 1631413174482,
     "user": {
      "displayName": "Sauvik De",
      "photoUrl": "https://lh3.googleusercontent.com/a-/AOh14GjA41mUSR5Vp5tNHz71z1tO7sQJ2j-m0BM_Hp_oww=s64",
      "userId": "18190594405870803779"
     },
     "user_tz": -330
    },
    "id": "B0_ihCg71v4l",
    "outputId": "e50a0925-f938-41c0-8086-f5f67ff631ef"
   },
   "outputs": [
    {
     "name": "stdout",
     "output_type": "stream",
     "text": [
      "Blogs written spread across years:\n",
      "['' '1999' '2000' '2001' '2002' '2003' '2004' '2005' '2006']\n"
     ]
    }
   ],
   "source": [
    "print('Blogs written spread across years:')\n",
    "print(np.array(pd.Series(blogs['date'].apply(lambda x: x.split(',')[2]).unique()).sort_values()))"
   ]
  },
  {
   "cell_type": "markdown",
   "metadata": {
    "id": "ei0HJzcn1v4l"
   },
   "source": [
    "- There are months that are non-English. The blogs written are spread from 1999 through 2006.\n",
    "- However, we may ignore this column for our analysis as evaluating the blog category have little to no effect of dates.\n",
    "- Also dates are provided to distinguish multiple blogs from the same blogger ordered by time"
   ]
  },
  {
   "cell_type": "markdown",
   "metadata": {
    "id": "DovtGyxq1v4l"
   },
   "source": [
    "### Motivation and Strategy:\n",
    "- Our goal in this study is to predict multiple features of the author given his/her blog text as input in the paradigm of multi-label classification problem\n",
    "- Author's ID and blogging date may not play any role for this analysis - so we plan to drop these columns\n",
    "- The rest of the columns - Gender, Age, Sign and Topic - may represent useful info about author's feature based on blog text represented in column 'text'\n",
    "- We will use column 'text' as input feature and a combined column using (Gender, Age, Sign and Topic) as response\n",
    "- We will pre-process both the input feature and response\n",
    "- For the input text, we will perform data cleansing by removing unwanted characters, spaces, stop words etc., converting text to lowercase, and finally vectorize to convert texts into numerics\n",
    "- For the response, we will concatecate target columns and binarize in multi-label set up before fitting models\n",
    "- Since age is a numerical column, we can convert it to categorical column by dividing age into three categories as noted during our EDA step. We will also try our analysis keeping age as numerical column as well, if time permits.\n",
    "- Moreover, we will consider train-validation split prior to applying vectorizer or multi-label binarizer to prevent data leakage"
   ]
  },
  {
   "cell_type": "markdown",
   "metadata": {
    "id": "PBIk6Ki51v4m"
   },
   "source": [
    "#### Data cleaning and  pre-processing"
   ]
  },
  {
   "cell_type": "code",
   "execution_count": 23,
   "metadata": {
    "executionInfo": {
     "elapsed": 365,
     "status": "ok",
     "timestamp": 1631413178275,
     "user": {
      "displayName": "Sauvik De",
      "photoUrl": "https://lh3.googleusercontent.com/a-/AOh14GjA41mUSR5Vp5tNHz71z1tO7sQJ2j-m0BM_Hp_oww=s64",
      "userId": "18190594405870803779"
     },
     "user_tz": -330
    },
    "id": "7teUASgt1v4m"
   },
   "outputs": [],
   "source": [
    "# Drop columns not required for our analysis\n",
    "df = blogs.drop(columns = ['id','date'], axis=1, inplace=False)"
   ]
  },
  {
   "cell_type": "code",
   "execution_count": 24,
   "metadata": {
    "executionInfo": {
     "elapsed": 3,
     "status": "ok",
     "timestamp": 1631413179889,
     "user": {
      "displayName": "Sauvik De",
      "photoUrl": "https://lh3.googleusercontent.com/a-/AOh14GjA41mUSR5Vp5tNHz71z1tO7sQJ2j-m0BM_Hp_oww=s64",
      "userId": "18190594405870803779"
     },
     "user_tz": -330
    },
    "id": "3d2--Col1v4m"
   },
   "outputs": [],
   "source": [
    "#df = df[:2000] #testing..."
   ]
  },
  {
   "cell_type": "markdown",
   "metadata": {
    "id": "sTV5lZXd7iCe"
   },
   "source": [
    "Blog text data clean-up: Remove stopwords and Remove unwanted characters/spaces, HTTP(S) tags using Regular Expressions"
   ]
  },
  {
   "cell_type": "code",
   "execution_count": 25,
   "metadata": {
    "executionInfo": {
     "elapsed": 3518,
     "status": "ok",
     "timestamp": 1631413184897,
     "user": {
      "displayName": "Sauvik De",
      "photoUrl": "https://lh3.googleusercontent.com/a-/AOh14GjA41mUSR5Vp5tNHz71z1tO7sQJ2j-m0BM_Hp_oww=s64",
      "userId": "18190594405870803779"
     },
     "user_tz": -330
    },
    "id": "Qx7F7IGp1v4m"
   },
   "outputs": [],
   "source": [
    "# Remove http links from blog texts\n",
    "regex = re.compile(r'https?://\\S+')\n",
    "df['text'] = [regex.sub(' ', x).strip().lower() for x in df['text'].values.tolist()]"
   ]
  },
  {
   "cell_type": "code",
   "execution_count": 26,
   "metadata": {
    "executionInfo": {
     "elapsed": 16931,
     "status": "ok",
     "timestamp": 1631413201821,
     "user": {
      "displayName": "Sauvik De",
      "photoUrl": "https://lh3.googleusercontent.com/a-/AOh14GjA41mUSR5Vp5tNHz71z1tO7sQJ2j-m0BM_Hp_oww=s64",
      "userId": "18190594405870803779"
     },
     "user_tz": -330
    },
    "id": "5R9yQkZn1v4m"
   },
   "outputs": [],
   "source": [
    "# Clean up text column\n",
    "# Remove unwanted characters and spaces, and convert to lowercase\n",
    "#df['text'] = df['text'].apply(lambda x: re.sub('[^\\w\\s+]', '', x).strip().lower()) ## <- slow\n",
    "#regex = re.compile('[^\\w\\s]+')\n",
    "\n",
    "regex = re.compile('[^A-Za-z\\s]')\n",
    "df['text'] = [regex.sub(' ', x).strip().lower() for x in df['text'].values.tolist()]"
   ]
  },
  {
   "cell_type": "code",
   "execution_count": 27,
   "metadata": {
    "executionInfo": {
     "elapsed": 16650,
     "status": "ok",
     "timestamp": 1631413218432,
     "user": {
      "displayName": "Sauvik De",
      "photoUrl": "https://lh3.googleusercontent.com/a-/AOh14GjA41mUSR5Vp5tNHz71z1tO7sQJ2j-m0BM_Hp_oww=s64",
      "userId": "18190594405870803779"
     },
     "user_tz": -330
    },
    "id": "aYpMV9N19Gb-"
   },
   "outputs": [],
   "source": [
    "# Replace more than one space with just one space\n",
    "regex = re.compile('\\s\\s+')\n",
    "df['text'] = [regex.sub(' ', x).strip().lower() for x in df['text'].values.tolist()]"
   ]
  },
  {
   "cell_type": "code",
   "execution_count": 28,
   "metadata": {
    "colab": {
     "base_uri": "https://localhost:8080/"
    },
    "executionInfo": {
     "elapsed": 34018,
     "status": "ok",
     "timestamp": 1631413252400,
     "user": {
      "displayName": "Sauvik De",
      "photoUrl": "https://lh3.googleusercontent.com/a-/AOh14GjA41mUSR5Vp5tNHz71z1tO7sQJ2j-m0BM_Hp_oww=s64",
      "userId": "18190594405870803779"
     },
     "user_tz": -330
    },
    "id": "T8bxd7-N1v4n",
    "outputId": "ce4d2891-fd3f-4925-fcb8-0bfa4e780adb"
   },
   "outputs": [
    {
     "name": "stdout",
     "output_type": "stream",
     "text": [
      "[nltk_data] Downloading package stopwords to /root/nltk_data...\n",
      "[nltk_data]   Unzipping corpora/stopwords.zip.\n"
     ]
    }
   ],
   "source": [
    "# Remove stopwords from text column\n",
    "# cache stopwords list\n",
    "nltk.download('stopwords')\n",
    "stopWords = nltk.corpus.stopwords.words('english')\n",
    "# use Counter, i.e., dictionary (hashmap) to run faster (based off C)\n",
    "stopwords_dict = Counter(stopWords)\n",
    "# remove stopwords\n",
    "df['text'] = df['text'].apply(lambda x: ' '.join([word for word in x.split() if word not in stopwords_dict]))"
   ]
  },
  {
   "cell_type": "code",
   "execution_count": 29,
   "metadata": {
    "executionInfo": {
     "elapsed": 5,
     "status": "ok",
     "timestamp": 1631413252401,
     "user": {
      "displayName": "Sauvik De",
      "photoUrl": "https://lh3.googleusercontent.com/a-/AOh14GjA41mUSR5Vp5tNHz71z1tO7sQJ2j-m0BM_Hp_oww=s64",
      "userId": "18190594405870803779"
     },
     "user_tz": -330
    },
    "id": "hiJCSUN41v4n"
   },
   "outputs": [],
   "source": [
    "# Lemmatize text column for word normalization using spacy en model\n",
    "\n",
    "#pip install https://github.com/explosion/spacy-models/releases/download/en_core_web_sm-3.0.0/en_core_web_sm-3.0.0-py3-none-any.whl\n",
    "#pip install https://github.com/explosion/spacy-models/releases/download/en_core_web_sm-3.0.0/en_core_web_sm-3.0.0.tar.gz\n",
    "    \n",
    "# Initialize spacy 'en' model, keeping only tagger component needed for lemmatization\n",
    "#nlp = spacy.load('en_core_web_sm', disable=['parser', 'ner'])\n",
    "\n",
    "# Parse the sentence using the loaded 'en' model object `nlp`\n",
    "\n",
    "#df['text'] = df['text'].apply(lambda x: ' '.join([token.lemma_ for token in nlp(x)]))\n",
    "\n",
    "#def lemmatizer(text):        \n",
    "#    sent = []\n",
    "#    doc = nlp(text)\n",
    "#    for word in doc:\n",
    "#        sent.append(word.lemma_)\n",
    "#    return ' '.join(sent)\n",
    "\n",
    "#df['text'] = df['text'].apply(lambda x: lemmatizer(x))"
   ]
  },
  {
   "cell_type": "code",
   "execution_count": 30,
   "metadata": {
    "colab": {
     "base_uri": "https://localhost:8080/"
    },
    "executionInfo": {
     "elapsed": 327315,
     "status": "ok",
     "timestamp": 1631413579712,
     "user": {
      "displayName": "Sauvik De",
      "photoUrl": "https://lh3.googleusercontent.com/a-/AOh14GjA41mUSR5Vp5tNHz71z1tO7sQJ2j-m0BM_Hp_oww=s64",
      "userId": "18190594405870803779"
     },
     "user_tz": -330
    },
    "id": "79hzf-RO1v4n",
    "outputId": "e1777bbe-cab1-4bc1-a5a2-0a5ca8533b88"
   },
   "outputs": [
    {
     "name": "stdout",
     "output_type": "stream",
     "text": [
      "[nltk_data] Downloading package wordnet to /root/nltk_data...\n",
      "[nltk_data]   Unzipping corpora/wordnet.zip.\n"
     ]
    }
   ],
   "source": [
    "# Lemmatize text column for word normalization using nltk wordnet\n",
    "\n",
    "nltk.download('wordnet')\n",
    "lemmatizer = nltk.stem.WordNetLemmatizer()\n",
    "\n",
    "#-------------------------------------------------------------------------------\n",
    "#tag_dict = {\"J\": 'a', #nltk.corpus.wordnet.ADJ,\n",
    "#            \"N\": 'n', #nltk.corpus.wordnet.NOUN,\n",
    "#            \"V\": 'v', #nltk.corpus.wordnet.VERB,\n",
    "#            \"R\": 'r' #nltk.corpus.wordnet.ADV\n",
    "#           }\n",
    "\n",
    "#def get_wordnet_pos(word):\n",
    "#    pTag = nltk.pos_tag([word])[0][1][0].upper()\n",
    "#    return tag_dict.get(pTag, 'n') \n",
    "\n",
    "#df['text'] = df['text'].apply(lambda x: ' '.join([lemmatizer.lemmatize(word, pos=get_wordnet_pos(word))\n",
    "#                                                  for word in x.split()]))   ## <- Customised lemmatization approach takes long long time ......\n",
    "#-------------------------------------------------------------------------------\n",
    "\n",
    "# Lemmatize for verbs\n",
    "df['text'] = df['text'].apply(lambda x: ' '.join([lemmatizer.lemmatize(word, pos='v') for word in x.split()]))"
   ]
  },
  {
   "cell_type": "code",
   "execution_count": 31,
   "metadata": {
    "executionInfo": {
     "elapsed": 43,
     "status": "ok",
     "timestamp": 1631413579714,
     "user": {
      "displayName": "Sauvik De",
      "photoUrl": "https://lh3.googleusercontent.com/a-/AOh14GjA41mUSR5Vp5tNHz71z1tO7sQJ2j-m0BM_Hp_oww=s64",
      "userId": "18190594405870803779"
     },
     "user_tz": -330
    },
    "id": "c-GVfQZE1v4o"
   },
   "outputs": [],
   "source": [
    "# since age can be thought of as ordinal variable in categorical sense, we can ...\n",
    "# convert ordinal variable into binary one with number of binary variables \n",
    "# equalling the number of ordinal categories less 1\n",
    "\n",
    "# As a reminder, we have three age groups [13-17], [23-27], [33-48] \n",
    "\n",
    "# P[age<=17] = 1 - P[age>17] = P(Youngest class)\n",
    "# P[age>17] - P[age>27]      = P(Adult class)\n",
    "# P[age>27]                  = P(Elderly class)\n",
    "\n",
    "# From the above, we have two events to evaluate three age groups:\n",
    "# [age > 17] and [age > 27]\n",
    "\n",
    "# https://towardsdatascience.com/simple-trick-to-train-an-ordinal-regression-with-any-classifier-6911183d2a3c\n",
    "# https://stackoverflow.com/questions/38375401/neural-network-ordinal-classification-for-age\n",
    "\n",
    "# If we simply use one-hot-encoding, we will loose the ordering information across age groups\n",
    "# The idea is we don't want to loose the ordinal information within the age variable across three groups\n",
    "\n",
    "# We can use this for neural neural input to make input more meaningful\n",
    "df['age_gt_17'] = (df['age']>17).astype(int)\n",
    "df['age_gt_27'] = (df['age']>27).astype(int)\n",
    "\n",
    "# Prepare age groups for binary relevance with OvR - with base Logistic Regression/Naive Bayes/Linear SVC etc.\n",
    "df['ageGrp'] = pd.cut(df['age'], bins=[0,17,27,48], labels=['0_youngest','1_adult','2_elderly'])"
   ]
  },
  {
   "cell_type": "code",
   "execution_count": 32,
   "metadata": {
    "executionInfo": {
     "elapsed": 42,
     "status": "ok",
     "timestamp": 1631413579716,
     "user": {
      "displayName": "Sauvik De",
      "photoUrl": "https://lh3.googleusercontent.com/a-/AOh14GjA41mUSR5Vp5tNHz71z1tO7sQJ2j-m0BM_Hp_oww=s64",
      "userId": "18190594405870803779"
     },
     "user_tz": -330
    },
    "id": "inxFjkYmH0v_"
   },
   "outputs": [],
   "source": [
    "# Create a male flag for gender variable (binary)\n",
    "df['gender_male'] = (df['gender']=='male').astype(int)"
   ]
  },
  {
   "cell_type": "code",
   "execution_count": 33,
   "metadata": {
    "executionInfo": {
     "elapsed": 41,
     "status": "ok",
     "timestamp": 1631413579717,
     "user": {
      "displayName": "Sauvik De",
      "photoUrl": "https://lh3.googleusercontent.com/a-/AOh14GjA41mUSR5Vp5tNHz71z1tO7sQJ2j-m0BM_Hp_oww=s64",
      "userId": "18190594405870803779"
     },
     "user_tz": -330
    },
    "id": "c5eIMcc41v4o"
   },
   "outputs": [],
   "source": [
    "# Renaming the categories to maintain grouping for topic and sign (we will one-hot-encode these using Multilabel Binarizer)\n",
    "df['topic'] = 'topic_' + df['topic']\n",
    "df['sign']  = 'sign_'  + df['sign']"
   ]
  },
  {
   "cell_type": "code",
   "execution_count": 34,
   "metadata": {
    "executionInfo": {
     "elapsed": 1654,
     "status": "ok",
     "timestamp": 1631413581331,
     "user": {
      "displayName": "Sauvik De",
      "photoUrl": "https://lh3.googleusercontent.com/a-/AOh14GjA41mUSR5Vp5tNHz71z1tO7sQJ2j-m0BM_Hp_oww=s64",
      "userId": "18190594405870803779"
     },
     "user_tz": -330
    },
    "id": "BXINkTcj1v4p"
   },
   "outputs": [],
   "source": [
    "# Combine target labels (multi-label) into a single column\n",
    "df['label'] = df[['ageGrp', 'gender', 'topic', 'sign']].values.tolist()"
   ]
  },
  {
   "cell_type": "code",
   "execution_count": 35,
   "metadata": {
    "colab": {
     "base_uri": "https://localhost:8080/",
     "height": 206
    },
    "executionInfo": {
     "elapsed": 24,
     "status": "ok",
     "timestamp": 1631413581333,
     "user": {
      "displayName": "Sauvik De",
      "photoUrl": "https://lh3.googleusercontent.com/a-/AOh14GjA41mUSR5Vp5tNHz71z1tO7sQJ2j-m0BM_Hp_oww=s64",
      "userId": "18190594405870803779"
     },
     "user_tz": -330
    },
    "id": "lhYwGPcnFtjF",
    "outputId": "4199fa4b-4fea-49ab-d0c0-f4094d18a5a8"
   },
   "outputs": [
    {
     "data": {
      "text/html": [
       "<div>\n",
       "<style scoped>\n",
       "    .dataframe tbody tr th:only-of-type {\n",
       "        vertical-align: middle;\n",
       "    }\n",
       "\n",
       "    .dataframe tbody tr th {\n",
       "        vertical-align: top;\n",
       "    }\n",
       "\n",
       "    .dataframe thead th {\n",
       "        text-align: right;\n",
       "    }\n",
       "</style>\n",
       "<table border=\"1\" class=\"dataframe\">\n",
       "  <thead>\n",
       "    <tr style=\"text-align: right;\">\n",
       "      <th></th>\n",
       "      <th>text</th>\n",
       "      <th>label</th>\n",
       "    </tr>\n",
       "  </thead>\n",
       "  <tbody>\n",
       "    <tr>\n",
       "      <th>155540</th>\n",
       "      <td>urllink work iron lace vw bug</td>\n",
       "      <td>[1_adult, male, topic_indUnk, sign_Sagittarius]</td>\n",
       "    </tr>\n",
       "    <tr>\n",
       "      <th>398373</th>\n",
       "      <td>also censor literature conversations nbsp perh...</td>\n",
       "      <td>[1_adult, female, topic_indUnk, sign_Capricorn]</td>\n",
       "    </tr>\n",
       "    <tr>\n",
       "      <th>650129</th>\n",
       "      <td>holidaze yikes week christmas kid school janua...</td>\n",
       "      <td>[2_elderly, female, topic_Technology, sign_Virgo]</td>\n",
       "    </tr>\n",
       "    <tr>\n",
       "      <th>62539</th>\n",
       "      <td>nbsp sometimes feel body dead lifeless carven ...</td>\n",
       "      <td>[2_elderly, female, topic_indUnk, sign_Cancer]</td>\n",
       "    </tr>\n",
       "    <tr>\n",
       "      <th>281526</th>\n",
       "      <td>love pun really funny ones old yell man home c...</td>\n",
       "      <td>[0_youngest, male, topic_Non-Profit, sign_Gemini]</td>\n",
       "    </tr>\n",
       "  </tbody>\n",
       "</table>\n",
       "</div>"
      ],
      "text/plain": [
       "                                                     text  \\\n",
       "155540                      urllink work iron lace vw bug   \n",
       "398373  also censor literature conversations nbsp perh...   \n",
       "650129  holidaze yikes week christmas kid school janua...   \n",
       "62539   nbsp sometimes feel body dead lifeless carven ...   \n",
       "281526  love pun really funny ones old yell man home c...   \n",
       "\n",
       "                                                    label  \n",
       "155540    [1_adult, male, topic_indUnk, sign_Sagittarius]  \n",
       "398373    [1_adult, female, topic_indUnk, sign_Capricorn]  \n",
       "650129  [2_elderly, female, topic_Technology, sign_Virgo]  \n",
       "62539      [2_elderly, female, topic_indUnk, sign_Cancer]  \n",
       "281526  [0_youngest, male, topic_Non-Profit, sign_Gemini]  "
      ]
     },
     "execution_count": 35,
     "metadata": {},
     "output_type": "execute_result"
    }
   ],
   "source": [
    "# examine data layout\n",
    "df[['text', 'label']].sample(5)"
   ]
  },
  {
   "cell_type": "markdown",
   "metadata": {
    "id": "WUN5Eq2f1v4p"
   },
   "source": [
    "#### Train-Validation split "
   ]
  },
  {
   "cell_type": "code",
   "execution_count": null,
   "metadata": {
    "id": "qP1uIO4h1v4p"
   },
   "outputs": [],
   "source": [
    "# Training (80%) and validation (20%) split\n",
    "X_train, X_val, y_train, y_val = train_test_split(df[['text']], df[['label']], test_size=0.2, random_state=1)"
   ]
  },
  {
   "cell_type": "code",
   "execution_count": null,
   "metadata": {
    "colab": {
     "base_uri": "https://localhost:8080/"
    },
    "executionInfo": {
     "elapsed": 7,
     "status": "ok",
     "timestamp": 1631307836716,
     "user": {
      "displayName": "Sauvik De",
      "photoUrl": "https://lh3.googleusercontent.com/a-/AOh14GjA41mUSR5Vp5tNHz71z1tO7sQJ2j-m0BM_Hp_oww=s64",
      "userId": "18190594405870803779"
     },
     "user_tz": -330
    },
    "id": "cn9frCvq1v4p",
    "outputId": "b670bd78-6b45-4eff-9317-9712d715e4af"
   },
   "outputs": [
    {
     "name": "stdout",
     "output_type": "stream",
     "text": [
      "X_train shape: (545027, 1)\n",
      "X_test shape:  (136257, 1)\n",
      "y_train shape: (545027, 1)\n",
      "y_test shape:  (136257, 1)\n"
     ]
    }
   ],
   "source": [
    "print('X_train shape:', X_train.shape)\n",
    "print('X_test shape: ', X_val.shape)\n",
    "print('y_train shape:', y_train.shape)\n",
    "print('y_test shape: ', y_val.shape)"
   ]
  },
  {
   "cell_type": "markdown",
   "metadata": {
    "id": "DtKLV3ok1v4q"
   },
   "source": [
    "#### Encode texts to numerics"
   ]
  },
  {
   "cell_type": "code",
   "execution_count": null,
   "metadata": {
    "id": "hUcXvgBs1v4q"
   },
   "outputs": [],
   "source": [
    "# Vectorize texts - Bag of Words approach\n",
    "tiVect = TfidfVectorizer(ngram_range=(1,2), min_df=20, max_df=0.95, max_features=None, stop_words='english')\n",
    "# Compute word vector based on TF-IDF using training dataset\n",
    "X_train_vect = tiVect.fit_transform(X_train)\n",
    "# Compute word vector based on TF-IDF using validation dataset\n",
    "X_val_vect   = tiVect.transform(X_val)"
   ]
  },
  {
   "cell_type": "code",
   "execution_count": null,
   "metadata": {
    "colab": {
     "base_uri": "https://localhost:8080/"
    },
    "executionInfo": {
     "elapsed": 380,
     "status": "ok",
     "timestamp": 1631307396470,
     "user": {
      "displayName": "Sauvik De",
      "photoUrl": "https://lh3.googleusercontent.com/a-/AOh14GjA41mUSR5Vp5tNHz71z1tO7sQJ2j-m0BM_Hp_oww=s64",
      "userId": "18190594405870803779"
     },
     "user_tz": -330
    },
    "id": "gmCy0RJl1v4q",
    "outputId": "b6dff06f-4f47-4b9b-b729-5a8fc13c0b96"
   },
   "outputs": [
    {
     "name": "stdout",
     "output_type": "stream",
     "text": [
      "Vocabulary count based on training text set: 292272\n"
     ]
    }
   ],
   "source": [
    "print('Vocabulary count based on training text set:', len(tiVect.vocabulary_))"
   ]
  },
  {
   "cell_type": "code",
   "execution_count": null,
   "metadata": {
    "id": "yQX2FmIu1v4q"
   },
   "outputs": [],
   "source": [
    "# Transform (multi-label) target column\n",
    "# We will use this at a later point while evaluating model accuracy\n",
    "mlb = MultiLabelBinarizer()\n",
    "\n",
    "# Compute binarized flags for multi-labels available in training dataset\n",
    "y_train_encoded = mlb.fit_transform(y_train['label'])\n",
    "\n",
    "# Compute binarized flags for multi-labels available in test dataset\n",
    "y_val_encoded = mlb.transform(y_val['label'])"
   ]
  },
  {
   "cell_type": "markdown",
   "metadata": {
    "id": "s6gO_vmj1v4s"
   },
   "source": [
    "#### Classification\n",
    "- Since we are to predict multiple labels and each of the labels does have multiple classes, we can use One vs Rest (OVR) classifier as meta-estimator with Logistic regression as base classifier to train on every label. Alternatively, we may look at Support Vector Machine, Naive Bayes, Random Forest etc.\n",
    "- Useful links:\n",
    "    - https://scikit-learn.org/stable/modules/multiclass.html\n",
    "    - https://scikit-learn.org/stable/modules/preprocessing_targets.html#preprocessing-targets\n",
    "    - https://scikit-learn.org/stable/modules/generated/sklearn.multiclass.OneVsRestClassifier.html#sklearn.multiclass.OneVsRestClassifier\n",
    "    - http://palm.seu.edu.cn/zhangml/files/FCS'17.pdf\n",
    "- Please note that our case falls under 'multiclass-multioutput' as we have multiple targets/labels and each target/label consists of more than 2 categories (ternary, quarternary etc.). At present, no metric in sklearn.metrics supports the multiclass-multioutput classification task.\n",
    "- We will also try deep neural network to predict the multi-labels using Sigmoid activation function with binary crossentropy as loss function, since the goal is to treat each output label as an independent Bernoulli distribution and we want to penalize each output node independently.\n"
   ]
  },
  {
   "cell_type": "code",
   "execution_count": null,
   "metadata": {
    "id": "4RqRwtj_1v4s"
   },
   "outputs": [],
   "source": [
    "# base estimtators\n",
    "lgr = LogisticRegression(solver='lbfgs', multi_class='ovr')\n",
    "mnb = MultinomialNB()\n",
    "svc = LinearSVC(multi_class='ovr')\n",
    "\n",
    "# wrap with meta-estimator OVR\n",
    "lgr = OneVsRestClassifier(lgr)\n",
    "mnb = OneVsRestClassifier(mnb)\n",
    "svc = OneVsRestClassifier(svc)\n",
    "\n",
    "#NOTE: randomForest took ages to run to fit classifier on this big data"
   ]
  },
  {
   "cell_type": "code",
   "execution_count": null,
   "metadata": {
    "id": "8pt01nX7iX0q"
   },
   "outputs": [],
   "source": [
    "# Prediction function to fit and predict for multilabel classification\n",
    "def fit_prediction(clf, X_train, y_train, X_val):\n",
    "\n",
    "    # Fit base classification model using one-vs-rest classifier\n",
    "    clf.fit(X_train, y_train)\n",
    "\n",
    "    print('Model fitted. Moving on to prediction ...')\n",
    "    \n",
    "    # Get prediction for training and validation sets\n",
    "    y_pred_ovr_trn = clf.predict(X_train)\n",
    "    y_pred_ovr_val = clf.predict(X_val)\n",
    "\n",
    "    print('Prediction returned.')\n",
    "    \n",
    "    return (y_pred_ovr_trn, y_pred_ovr_val)"
   ]
  },
  {
   "cell_type": "code",
   "execution_count": null,
   "metadata": {
    "id": "YInhM6eK1v4s"
   },
   "outputs": [],
   "source": [
    "# Function to compute evaluation metrics for multilabel classification\n",
    "def get_evaluation(y_true_train, y_pred_train, y_true_val, y_pred_val):\n",
    "    \n",
    "    print('\\nCalculating evaluation metrics ...')\n",
    "\n",
    "    print('Hamming loss on training sample:', hamming_loss(y_true_train, y_pred_train))\n",
    "    print('Hamming loss on validation sample:', hamming_loss(y_true_val, y_pred_val))\n",
    "\n",
    "    print('\\nJaccard similarity score on training sample:', jaccard_score(y_true_train, y_pred_train, average='micro'))\n",
    "    print('Jaccard similarity score on validation sample:', jaccard_score(y_true_val, y_pred_val, average='micro'))\n",
    "\n",
    "    print('\\nAverage precision score on training sample:',\n",
    "          average_precision_score(y_true_train, y_pred_train, average='micro'))\n",
    "    print('Average precision score on validation sample:',\n",
    "          average_precision_score(y_true_val, y_pred_val, average='micro'))\n",
    "\n",
    "    print('\\nF1 score on training sample:',\n",
    "          f1_score(y_true_train, y_pred_train, average='micro'))\n",
    "    print('F1 score on validation sample:',\n",
    "          f1_score(y_true_val, y_pred_val, average='micro'))"
   ]
  },
  {
   "cell_type": "markdown",
   "metadata": {
    "id": "3fi3v9lbMlR6"
   },
   "source": [
    "Logistic Regression - Fit, Evaluate and Predict"
   ]
  },
  {
   "cell_type": "code",
   "execution_count": null,
   "metadata": {
    "colab": {
     "base_uri": "https://localhost:8080/"
    },
    "executionInfo": {
     "elapsed": 3419230,
     "status": "ok",
     "timestamp": 1631312160716,
     "user": {
      "displayName": "Sauvik De",
      "photoUrl": "https://lh3.googleusercontent.com/a-/AOh14GjA41mUSR5Vp5tNHz71z1tO7sQJ2j-m0BM_Hp_oww=s64",
      "userId": "18190594405870803779"
     },
     "user_tz": -330
    },
    "id": "Qtd72rL_1v4s",
    "outputId": "229597a1-b3a9-48ba-b8da-b9bb8a16ca5b"
   },
   "outputs": [
    {
     "name": "stdout",
     "output_type": "stream",
     "text": [
      "Model fitted. Moving on to prediction ...\n",
      "Prediction returned.\n",
      "\n",
      "Calculating evaluation metrics ...\n",
      "Hamming loss on training sample: 0.04793092658309959\n",
      "Hamming loss on validation sample: 0.05391334151961805\n",
      "\n",
      "Jaccard similarity score on training sample: 0.38454543801262114\n",
      "Jaccard similarity score on validation sample: 0.3306285178986206\n",
      "\n",
      "Average precision score on training sample: 0.3796715372241396\n",
      "Average precision score on validation sample: 0.31668163033370333\n",
      "\n",
      "F1 score on training sample: 0.5554825828823623\n",
      "F1 score on validation sample: 0.4969508971906927\n"
     ]
    }
   ],
   "source": [
    "# Base estimator: Logistic regression\n",
    "# Fit model and get predictions\n",
    "y_trn_lgr_pred, y_val_lgr_pred = fit_prediction(lgr, X_train_vect, y_train_encoded, X_val_vect)\n",
    "\n",
    "# Get evaluation score\n",
    "get_evaluation(y_train_encoded, y_trn_lgr_pred, y_val_encoded, y_val_lgr_pred)"
   ]
  },
  {
   "cell_type": "code",
   "execution_count": null,
   "metadata": {
    "colab": {
     "base_uri": "https://localhost:8080/"
    },
    "executionInfo": {
     "elapsed": 713,
     "status": "ok",
     "timestamp": 1631314790367,
     "user": {
      "displayName": "Sauvik De",
      "photoUrl": "https://lh3.googleusercontent.com/a-/AOh14GjA41mUSR5Vp5tNHz71z1tO7sQJ2j-m0BM_Hp_oww=s64",
      "userId": "18190594405870803779"
     },
     "user_tz": -330
    },
    "id": "iIr0oH9F68fE",
    "outputId": "a3eb5923-52d5-4ae0-8423-e802591f5060"
   },
   "outputs": [
    {
     "name": "stdout",
     "output_type": "stream",
     "text": [
      "                               precision    recall  f1-score   support\n",
      "\n",
      "                   0_youngest       0.84      0.68      0.75     47212\n",
      "                      1_adult       0.69      0.70      0.70     64380\n",
      "                    2_elderly       0.72      0.27      0.39     24665\n",
      "                       female       0.72      0.70      0.71     66950\n",
      "                         male       0.71      0.73      0.72     69307\n",
      "                sign_Aquarius       0.91      0.05      0.09      9742\n",
      "                   sign_Aries       0.83      0.05      0.09     13041\n",
      "                  sign_Cancer       0.91      0.07      0.13     13233\n",
      "               sign_Capricorn       0.82      0.01      0.02      9841\n",
      "                  sign_Gemini       0.85      0.03      0.06     10456\n",
      "                     sign_Leo       0.93      0.03      0.06     10714\n",
      "                   sign_Libra       0.78      0.03      0.05     12264\n",
      "                  sign_Pisces       0.90      0.05      0.10     10818\n",
      "             sign_Sagittarius       0.82      0.03      0.07     10079\n",
      "                 sign_Scorpio       0.79      0.04      0.07     11336\n",
      "                  sign_Taurus       0.88      0.04      0.08     12617\n",
      "                   sign_Virgo       0.89      0.04      0.08     12116\n",
      "             topic_Accounting       0.33      0.03      0.06       758\n",
      "            topic_Advertising       0.54      0.01      0.01       926\n",
      "            topic_Agriculture       0.00      0.00      0.00       254\n",
      "           topic_Architecture       1.00      0.00      0.01       347\n",
      "                   topic_Arts       0.88      0.04      0.08      6505\n",
      "             topic_Automotive       0.00      0.00      0.00       262\n",
      "                topic_Banking       0.90      0.01      0.02       781\n",
      "                topic_Biotech       1.00      0.02      0.03       435\n",
      "       topic_BusinessServices       0.95      0.06      0.12       864\n",
      "              topic_Chemicals       0.50      0.00      0.00       799\n",
      "   topic_Communications-Media       0.80      0.02      0.03      4059\n",
      "           topic_Construction       1.00      0.05      0.09       242\n",
      "             topic_Consulting       0.50      0.00      0.00      1180\n",
      "              topic_Education       0.91      0.05      0.09      5892\n",
      "            topic_Engineering       0.91      0.03      0.07      2315\n",
      "            topic_Environment       0.00      0.00      0.00       120\n",
      "                topic_Fashion       0.94      0.12      0.21       956\n",
      "             topic_Government       1.00      0.02      0.05      1430\n",
      "         topic_HumanResources       1.00      0.00      0.00       606\n",
      "               topic_Internet       0.94      0.03      0.05      3228\n",
      "      topic_InvestmentBanking       0.00      0.00      0.00       285\n",
      "                    topic_Law       0.69      0.02      0.03      1860\n",
      "topic_LawEnforcement-Security       0.00      0.00      0.00       371\n",
      "          topic_Manufacturing       1.00      0.01      0.02       486\n",
      "               topic_Maritime       0.00      0.00      0.00        51\n",
      "              topic_Marketing       0.91      0.01      0.02       925\n",
      "               topic_Military       1.00      0.01      0.02       598\n",
      "      topic_Museums-Libraries       0.62      0.05      0.09       583\n",
      "             topic_Non-Profit       0.67      0.03      0.06      2942\n",
      "             topic_Publishing       0.92      0.06      0.11      1543\n",
      "             topic_RealEstate       0.33      0.00      0.01       604\n",
      "               topic_Religion       0.47      0.02      0.04      1017\n",
      "                topic_Science       0.76      0.01      0.02      1517\n",
      "      topic_Sports-Recreation       0.75      0.01      0.01       581\n",
      "                topic_Student       0.64      0.22      0.33     30851\n",
      "             topic_Technology       0.74      0.06      0.11      8404\n",
      "     topic_Telecommunications       1.00      0.03      0.06       777\n",
      "                topic_Tourism       1.00      0.01      0.02       403\n",
      "         topic_Transportation       1.00      0.16      0.27       463\n",
      "                 topic_indUnk       0.61      0.23      0.34     50037\n",
      "\n",
      "                    micro avg       0.72      0.38      0.50    545028\n",
      "                    macro avg       0.72      0.09      0.12    545028\n",
      "                 weighted avg       0.75      0.38      0.42    545028\n",
      "                  samples avg       0.71      0.38      0.48    545028\n",
      "\n"
     ]
    }
   ],
   "source": [
    "# Classification Report\n",
    "print(classification_report(y_val_encoded, y_val_lgr_pred, target_names=mlb.classes_))"
   ]
  },
  {
   "cell_type": "code",
   "execution_count": null,
   "metadata": {
    "id": "8ooH4Pn9eP4q"
   },
   "outputs": [],
   "source": [
    "# Prediction\n",
    "y_true_val = mlb.inverse_transform(y_val_encoded)\n",
    "y_pred_val_lgr = mlb.inverse_transform(y_val_lgr_pred)"
   ]
  },
  {
   "cell_type": "code",
   "execution_count": null,
   "metadata": {
    "colab": {
     "base_uri": "https://localhost:8080/"
    },
    "executionInfo": {
     "elapsed": 394,
     "status": "ok",
     "timestamp": 1631312323778,
     "user": {
      "displayName": "Sauvik De",
      "photoUrl": "https://lh3.googleusercontent.com/a-/AOh14GjA41mUSR5Vp5tNHz71z1tO7sQJ2j-m0BM_Hp_oww=s64",
      "userId": "18190594405870803779"
     },
     "user_tz": -330
    },
    "id": "33xyiWXO7XG8",
    "outputId": "41746139-3a34-417a-c8a3-3a5445e622ff"
   },
   "outputs": [
    {
     "name": "stdout",
     "output_type": "stream",
     "text": [
      "Validation sample #: 99392\n",
      "True labels: ['0_youngest', 'female', 'sign_Scorpio', 'topic_indUnk']\n",
      "Predicted labels: ['0_youngest', 'male']\n",
      "\n",
      "\n",
      "Validation sample #: 26186\n",
      "True labels: ['2_elderly', 'female', 'sign_Sagittarius', 'topic_Marketing']\n",
      "Predicted labels: ['male']\n",
      "\n",
      "\n",
      "Validation sample #: 99749\n",
      "True labels: ['1_adult', 'male', 'sign_Sagittarius', 'topic_indUnk']\n",
      "Predicted labels: ['1_adult', 'male']\n",
      "\n",
      "\n",
      "Validation sample #: 30671\n",
      "True labels: ['2_elderly', 'male', 'sign_Capricorn', 'topic_indUnk']\n",
      "Predicted labels: ['2_elderly', 'male', 'topic_indUnk']\n",
      "\n",
      "\n",
      "Validation sample #: 100204\n",
      "True labels: ['1_adult', 'male', 'sign_Gemini', 'topic_Technology']\n",
      "Predicted labels: ['1_adult', 'male', 'sign_Gemini', 'topic_Technology']\n",
      "\n",
      "\n"
     ]
    }
   ],
   "source": [
    "# Test on Validation set: actual vs predicton for 5 random samples:\n",
    "import random\n",
    "\n",
    "for i in range(0,5):\n",
    "  n = random.choice(range(0, len(y_true_val)))\n",
    "\n",
    "  print('Validation sample #:', n)\n",
    "  print('True labels:', list(y_true_val[n]))\n",
    "  print('Predicted labels:', list(y_pred_val_lgr[n]))\n",
    "  print('\\n')"
   ]
  },
  {
   "cell_type": "markdown",
   "metadata": {
    "id": "Jnlrlm8GMdX6"
   },
   "source": [
    "Naive Bayes - Fit, Evaluate and Predict"
   ]
  },
  {
   "cell_type": "code",
   "execution_count": null,
   "metadata": {
    "colab": {
     "base_uri": "https://localhost:8080/"
    },
    "executionInfo": {
     "elapsed": 80661,
     "status": "ok",
     "timestamp": 1631312474617,
     "user": {
      "displayName": "Sauvik De",
      "photoUrl": "https://lh3.googleusercontent.com/a-/AOh14GjA41mUSR5Vp5tNHz71z1tO7sQJ2j-m0BM_Hp_oww=s64",
      "userId": "18190594405870803779"
     },
     "user_tz": -330
    },
    "id": "cNbE_3lI7XQb",
    "outputId": "13ce7644-3040-4f32-e531-d0242f8051dd"
   },
   "outputs": [
    {
     "name": "stdout",
     "output_type": "stream",
     "text": [
      "Model fitted. Moving on to prediction ...\n",
      "Prediction returned.\n",
      "\n",
      "Calculating evaluation metrics ...\n",
      "Hamming loss on training sample: 0.053489608224462984\n",
      "Hamming loss on validation sample: 0.05693665311770881\n",
      "\n",
      "Jaccard similarity score on training sample: 0.3278959246736018\n",
      "Jaccard similarity score on validation sample: 0.29688324821441064\n",
      "\n",
      "Average precision score on training sample: 0.31739020466559514\n",
      "Average precision score on validation sample: 0.2825088663530161\n",
      "\n",
      "F1 score on training sample: 0.4938578672936268\n",
      "F1 score on validation sample: 0.4578411335379168\n"
     ]
    }
   ],
   "source": [
    "# Base estimator: Naive Bayes\n",
    "# Fit model and get predictions\n",
    "y_trn_mnb_pred, y_val_mnb_pred = fit_prediction(mnb, X_train_vect, y_train_encoded, X_val_vect)\n",
    "\n",
    "# Get evaluation score\n",
    "get_evaluation(y_train_encoded, y_trn_mnb_pred, y_val_encoded, y_val_mnb_pred)"
   ]
  },
  {
   "cell_type": "code",
   "execution_count": null,
   "metadata": {
    "colab": {
     "base_uri": "https://localhost:8080/"
    },
    "executionInfo": {
     "elapsed": 1066,
     "status": "ok",
     "timestamp": 1631314842739,
     "user": {
      "displayName": "Sauvik De",
      "photoUrl": "https://lh3.googleusercontent.com/a-/AOh14GjA41mUSR5Vp5tNHz71z1tO7sQJ2j-m0BM_Hp_oww=s64",
      "userId": "18190594405870803779"
     },
     "user_tz": -330
    },
    "id": "cyThI2bD8OH-",
    "outputId": "45ddfeb7-05f6-4db4-b001-9e7bb3523936"
   },
   "outputs": [
    {
     "name": "stdout",
     "output_type": "stream",
     "text": [
      "                               precision    recall  f1-score   support\n",
      "\n",
      "                   0_youngest       0.82      0.60      0.70     47212\n",
      "                      1_adult       0.66      0.73      0.69     64380\n",
      "                    2_elderly       0.59      0.20      0.30     24665\n",
      "                       female       0.66      0.72      0.69     66950\n",
      "                         male       0.71      0.65      0.68     69307\n",
      "                sign_Aquarius       0.79      0.01      0.02      9742\n",
      "                   sign_Aries       0.49      0.01      0.03     13041\n",
      "                  sign_Cancer       0.93      0.04      0.07     13233\n",
      "               sign_Capricorn       0.51      0.00      0.00      9841\n",
      "                  sign_Gemini       0.84      0.01      0.02     10456\n",
      "                     sign_Leo       0.84      0.01      0.03     10714\n",
      "                   sign_Libra       0.59      0.01      0.01     12264\n",
      "                  sign_Pisces       0.87      0.02      0.04     10818\n",
      "             sign_Sagittarius       0.45      0.01      0.02     10079\n",
      "                 sign_Scorpio       0.74      0.01      0.02     11336\n",
      "                  sign_Taurus       0.87      0.02      0.04     12617\n",
      "                   sign_Virgo       0.81      0.01      0.03     12116\n",
      "             topic_Accounting       0.00      0.00      0.00       758\n",
      "            topic_Advertising       0.20      0.00      0.01       926\n",
      "            topic_Agriculture       0.00      0.00      0.00       254\n",
      "           topic_Architecture       0.00      0.00      0.00       347\n",
      "                   topic_Arts       0.56      0.01      0.02      6505\n",
      "             topic_Automotive       0.00      0.00      0.00       262\n",
      "                topic_Banking       0.00      0.00      0.00       781\n",
      "                topic_Biotech       0.00      0.00      0.00       435\n",
      "       topic_BusinessServices       0.00      0.00      0.00       864\n",
      "              topic_Chemicals       0.00      0.00      0.00       799\n",
      "   topic_Communications-Media       0.29      0.00      0.00      4059\n",
      "           topic_Construction       0.00      0.00      0.00       242\n",
      "             topic_Consulting       0.00      0.00      0.00      1180\n",
      "              topic_Education       0.67      0.01      0.02      5892\n",
      "            topic_Engineering       0.45      0.01      0.01      2315\n",
      "            topic_Environment       0.00      0.00      0.00       120\n",
      "                topic_Fashion       0.41      0.01      0.01       956\n",
      "             topic_Government       0.44      0.01      0.02      1430\n",
      "         topic_HumanResources       0.25      0.00      0.00       606\n",
      "               topic_Internet       0.65      0.01      0.01      3228\n",
      "      topic_InvestmentBanking       0.00      0.00      0.00       285\n",
      "                    topic_Law       0.00      0.00      0.00      1860\n",
      "topic_LawEnforcement-Security       0.00      0.00      0.00       371\n",
      "          topic_Manufacturing       0.00      0.00      0.00       486\n",
      "               topic_Maritime       0.00      0.00      0.00        51\n",
      "              topic_Marketing       0.00      0.00      0.00       925\n",
      "               topic_Military       0.00      0.00      0.00       598\n",
      "      topic_Museums-Libraries       0.00      0.00      0.00       583\n",
      "             topic_Non-Profit       0.30      0.00      0.01      2942\n",
      "             topic_Publishing       0.16      0.00      0.00      1543\n",
      "             topic_RealEstate       0.00      0.00      0.00       604\n",
      "               topic_Religion       0.14      0.00      0.00      1017\n",
      "                topic_Science       0.00      0.00      0.00      1517\n",
      "      topic_Sports-Recreation       0.00      0.00      0.00       581\n",
      "                topic_Student       0.58      0.19      0.29     30851\n",
      "             topic_Technology       0.77      0.02      0.03      8404\n",
      "     topic_Telecommunications       0.00      0.00      0.00       777\n",
      "                topic_Tourism       0.00      0.00      0.00       403\n",
      "         topic_Transportation       0.95      0.16      0.27       463\n",
      "                 topic_indUnk       0.77      0.09      0.17     50037\n",
      "\n",
      "                    micro avg       0.69      0.34      0.46    545028\n",
      "                    macro avg       0.35      0.06      0.07    545028\n",
      "                 weighted avg       0.67      0.34      0.37    545028\n",
      "                  samples avg       0.68      0.34      0.45    545028\n",
      "\n"
     ]
    }
   ],
   "source": [
    "# Classification Report\n",
    "print(classification_report(y_val_encoded, y_val_mnb_pred, target_names=mlb.classes_))"
   ]
  },
  {
   "cell_type": "code",
   "execution_count": null,
   "metadata": {
    "id": "3jhlxFjJMBJg"
   },
   "outputs": [],
   "source": [
    "# Prediction\n",
    "y_true_val = mlb.inverse_transform(y_val_encoded)\n",
    "y_pred_val_mnb = mlb.inverse_transform(y_val_mnb_pred)"
   ]
  },
  {
   "cell_type": "code",
   "execution_count": null,
   "metadata": {
    "colab": {
     "base_uri": "https://localhost:8080/"
    },
    "executionInfo": {
     "elapsed": 377,
     "status": "ok",
     "timestamp": 1631312539967,
     "user": {
      "displayName": "Sauvik De",
      "photoUrl": "https://lh3.googleusercontent.com/a-/AOh14GjA41mUSR5Vp5tNHz71z1tO7sQJ2j-m0BM_Hp_oww=s64",
      "userId": "18190594405870803779"
     },
     "user_tz": -330
    },
    "id": "Za4EY9opEpri",
    "outputId": "a810477f-e299-40e9-b20a-c39921c581bc"
   },
   "outputs": [
    {
     "name": "stdout",
     "output_type": "stream",
     "text": [
      "Validation sample #: 95058\n",
      "True labels: ['0_youngest', 'female', 'sign_Aquarius', 'topic_Education']\n",
      "Predicted labels: ('0_youngest', 'female')\n",
      "\n",
      "\n",
      "Validation sample #: 70652\n",
      "True labels: ['0_youngest', 'male', 'sign_Scorpio', 'topic_Student']\n",
      "Predicted labels: ('0_youngest', 'male')\n",
      "\n",
      "\n",
      "Validation sample #: 32895\n",
      "True labels: ['0_youngest', 'male', 'sign_Virgo', 'topic_Student']\n",
      "Predicted labels: ('0_youngest', 'female')\n",
      "\n",
      "\n",
      "Validation sample #: 59255\n",
      "True labels: ['1_adult', 'male', 'sign_Cancer', 'topic_Chemicals']\n",
      "Predicted labels: ('male',)\n",
      "\n",
      "\n",
      "Validation sample #: 122411\n",
      "True labels: ['2_elderly', 'male', 'sign_Aquarius', 'topic_Manufacturing']\n",
      "Predicted labels: ('1_adult', 'male')\n",
      "\n",
      "\n"
     ]
    }
   ],
   "source": [
    "# Test on Validation set: actual vs predicton for 5 random samples:\n",
    "import random\n",
    "\n",
    "for i in range(0,5):\n",
    "  n = random.choice(range(0, len(y_true_val)))\n",
    "\n",
    "  print('Validation sample #:', n)\n",
    "  print('True labels:', list(y_true_val[n]))\n",
    "  print('Predicted labels:', y_pred_val_mnb[n])\n",
    "  print('\\n')"
   ]
  },
  {
   "cell_type": "markdown",
   "metadata": {
    "id": "ggeasoeD0B-Y"
   },
   "source": [
    "Support Vector Machine - Fit, Evaluate and Predict"
   ]
  },
  {
   "cell_type": "code",
   "execution_count": null,
   "metadata": {
    "colab": {
     "base_uri": "https://localhost:8080/"
    },
    "executionInfo": {
     "elapsed": 797225,
     "status": "ok",
     "timestamp": 1631313544033,
     "user": {
      "displayName": "Sauvik De",
      "photoUrl": "https://lh3.googleusercontent.com/a-/AOh14GjA41mUSR5Vp5tNHz71z1tO7sQJ2j-m0BM_Hp_oww=s64",
      "userId": "18190594405870803779"
     },
     "user_tz": -330
    },
    "id": "ppbKw_qf0B-Z",
    "outputId": "c421a7ed-4327-4385-f4cb-b671be838092"
   },
   "outputs": [
    {
     "name": "stdout",
     "output_type": "stream",
     "text": [
      "Model fitted. Moving on to prediction ...\n",
      "Prediction returned.\n",
      "\n",
      "Calculating evaluation metrics ...\n",
      "Hamming loss on training sample: 0.029498554698996243\n",
      "Hamming loss on validation sample: 0.05510124121741564\n",
      "\n",
      "Jaccard similarity score on training sample: 0.6062205954958605\n",
      "Jaccard similarity score on validation sample: 0.3502943739505622\n",
      "\n",
      "Average precision score on training sample: 0.6107815369263927\n",
      "Average precision score on validation sample: 0.32409657983627127\n",
      "\n",
      "F1 score on training sample: 0.7548410189681481\n",
      "F1 score on validation sample: 0.5188414922084055\n"
     ]
    }
   ],
   "source": [
    "# Base estimator: Support Vector Classifier\n",
    "# Fit model and get predictions\n",
    "y_trn_svc_pred, y_val_svc_pred = fit_prediction(svc, X_train_vect, y_train_encoded, X_val_vect)\n",
    "\n",
    "# Get evaluation score\n",
    "get_evaluation(y_train_encoded, y_trn_svc_pred, y_val_encoded, y_val_svc_pred)"
   ]
  },
  {
   "cell_type": "code",
   "execution_count": null,
   "metadata": {
    "colab": {
     "base_uri": "https://localhost:8080/"
    },
    "executionInfo": {
     "elapsed": 1099,
     "status": "ok",
     "timestamp": 1631314885385,
     "user": {
      "displayName": "Sauvik De",
      "photoUrl": "https://lh3.googleusercontent.com/a-/AOh14GjA41mUSR5Vp5tNHz71z1tO7sQJ2j-m0BM_Hp_oww=s64",
      "userId": "18190594405870803779"
     },
     "user_tz": -330
    },
    "id": "Y5zNpfEE8YN9",
    "outputId": "bda43039-2043-4b8f-fc50-4176bfded309"
   },
   "outputs": [
    {
     "name": "stdout",
     "output_type": "stream",
     "text": [
      "                               precision    recall  f1-score   support\n",
      "\n",
      "                   0_youngest       0.80      0.72      0.76     47212\n",
      "                      1_adult       0.69      0.69      0.69     64380\n",
      "                    2_elderly       0.63      0.39      0.48     24665\n",
      "                       female       0.70      0.69      0.69     66950\n",
      "                         male       0.70      0.71      0.71     69307\n",
      "                sign_Aquarius       0.67      0.10      0.17      9742\n",
      "                   sign_Aries       0.56      0.12      0.20     13041\n",
      "                  sign_Cancer       0.64      0.12      0.21     13233\n",
      "               sign_Capricorn       0.52      0.07      0.12      9841\n",
      "                  sign_Gemini       0.58      0.09      0.16     10456\n",
      "                     sign_Leo       0.59      0.08      0.15     10714\n",
      "                   sign_Libra       0.49      0.08      0.14     12264\n",
      "                  sign_Pisces       0.69      0.11      0.19     10818\n",
      "             sign_Sagittarius       0.59      0.09      0.16     10079\n",
      "                 sign_Scorpio       0.54      0.09      0.15     11336\n",
      "                  sign_Taurus       0.60      0.11      0.18     12617\n",
      "                   sign_Virgo       0.57      0.09      0.16     12116\n",
      "             topic_Accounting       0.27      0.08      0.12       758\n",
      "            topic_Advertising       0.66      0.05      0.10       926\n",
      "            topic_Agriculture       0.55      0.04      0.08       254\n",
      "           topic_Architecture       0.43      0.06      0.10       347\n",
      "                   topic_Arts       0.76      0.11      0.19      6505\n",
      "             topic_Automotive       0.25      0.02      0.03       262\n",
      "                topic_Banking       0.55      0.06      0.11       781\n",
      "                topic_Biotech       0.51      0.07      0.13       435\n",
      "       topic_BusinessServices       0.81      0.12      0.21       864\n",
      "              topic_Chemicals       0.54      0.03      0.06       799\n",
      "   topic_Communications-Media       0.63      0.06      0.11      4059\n",
      "           topic_Construction       0.62      0.07      0.13       242\n",
      "             topic_Consulting       0.68      0.04      0.08      1180\n",
      "              topic_Education       0.79      0.11      0.19      5892\n",
      "            topic_Engineering       0.68      0.08      0.15      2315\n",
      "            topic_Environment       0.38      0.04      0.08       120\n",
      "                topic_Fashion       0.96      0.24      0.38       956\n",
      "             topic_Government       0.92      0.08      0.16      1430\n",
      "         topic_HumanResources       0.45      0.02      0.04       606\n",
      "               topic_Internet       0.76      0.07      0.13      3228\n",
      "      topic_InvestmentBanking       1.00      0.02      0.05       285\n",
      "                    topic_Law       0.77      0.08      0.15      1860\n",
      "topic_LawEnforcement-Security       0.84      0.10      0.18       371\n",
      "          topic_Manufacturing       0.76      0.06      0.11       486\n",
      "               topic_Maritime       0.00      0.00      0.00        51\n",
      "              topic_Marketing       0.30      0.05      0.09       925\n",
      "               topic_Military       0.82      0.06      0.11       598\n",
      "      topic_Museums-Libraries       0.23      0.08      0.12       583\n",
      "             topic_Non-Profit       0.40      0.07      0.11      2942\n",
      "             topic_Publishing       0.88      0.15      0.26      1543\n",
      "             topic_RealEstate       0.70      0.07      0.12       604\n",
      "               topic_Religion       0.44      0.05      0.09      1017\n",
      "                topic_Science       0.35      0.04      0.07      1517\n",
      "      topic_Sports-Recreation       0.67      0.06      0.11       581\n",
      "                topic_Student       0.55      0.32      0.41     30851\n",
      "             topic_Technology       0.56      0.13      0.21      8404\n",
      "     topic_Telecommunications       0.70      0.11      0.19       777\n",
      "                topic_Tourism       0.68      0.10      0.17       403\n",
      "         topic_Transportation       0.97      0.18      0.31       463\n",
      "                 topic_indUnk       0.51      0.39      0.44     50037\n",
      "\n",
      "                    micro avg       0.67      0.42      0.52    545028\n",
      "                    macro avg       0.61      0.14      0.20    545028\n",
      "                 weighted avg       0.64      0.42      0.46    545028\n",
      "                  samples avg       0.66      0.42      0.50    545028\n",
      "\n"
     ]
    }
   ],
   "source": [
    "# Classification Report\n",
    "print(classification_report(y_val_encoded, y_val_svc_pred, target_names=mlb.classes_))"
   ]
  },
  {
   "cell_type": "code",
   "execution_count": null,
   "metadata": {
    "id": "bKHo58GN0B-Z"
   },
   "outputs": [],
   "source": [
    "# Prediction\n",
    "y_true_val = mlb.inverse_transform(y_val_encoded)\n",
    "y_pred_val_svc = mlb.inverse_transform(y_val_svc_pred)"
   ]
  },
  {
   "cell_type": "code",
   "execution_count": null,
   "metadata": {
    "colab": {
     "base_uri": "https://localhost:8080/"
    },
    "executionInfo": {
     "elapsed": 7,
     "status": "ok",
     "timestamp": 1631313555469,
     "user": {
      "displayName": "Sauvik De",
      "photoUrl": "https://lh3.googleusercontent.com/a-/AOh14GjA41mUSR5Vp5tNHz71z1tO7sQJ2j-m0BM_Hp_oww=s64",
      "userId": "18190594405870803779"
     },
     "user_tz": -330
    },
    "id": "cjvQWCLQ0B-Z",
    "outputId": "11099b14-bac4-4227-d869-a48ba593904d"
   },
   "outputs": [
    {
     "name": "stdout",
     "output_type": "stream",
     "text": [
      "Validation sample #: 28976\n",
      "True labels: ['2_elderly', 'male', 'sign_Libra', 'topic_Internet']\n",
      "Predicted labels: ['2_elderly', 'male']\n",
      "\n",
      "\n",
      "Validation sample #: 11446\n",
      "True labels: ['0_youngest', 'male', 'sign_Virgo', 'topic_Science']\n",
      "Predicted labels: ['0_youngest', 'female']\n",
      "\n",
      "\n",
      "Validation sample #: 118775\n",
      "True labels: ['1_adult', 'male', 'sign_Capricorn', 'topic_Law']\n",
      "Predicted labels: ['1_adult', 'male']\n",
      "\n",
      "\n",
      "Validation sample #: 109956\n",
      "True labels: ['1_adult', 'male', 'sign_Leo', 'topic_Chemicals']\n",
      "Predicted labels: ['1_adult', 'male', 'sign_Leo', 'topic_Chemicals']\n",
      "\n",
      "\n",
      "Validation sample #: 27023\n",
      "True labels: ['0_youngest', 'female', 'sign_Cancer', 'topic_indUnk']\n",
      "Predicted labels: ['0_youngest', 'female']\n",
      "\n",
      "\n"
     ]
    }
   ],
   "source": [
    "# Test on Validation set: actual vs predicton for 5 random samples:\n",
    "import random\n",
    "\n",
    "for i in range(0,5):\n",
    "  n = random.choice(range(0, len(y_true_val)))\n",
    "\n",
    "  print('Validation sample #:', n)\n",
    "  print('True labels:', list(y_true_val[n]))\n",
    "  print('Predicted labels:', list(y_pred_val_svc[n]))\n",
    "  print('\\n')"
   ]
  },
  {
   "cell_type": "markdown",
   "metadata": {
    "id": "D9QUtI6x4wtI"
   },
   "source": [
    "Comments:\n",
    "\n",
    "---\n",
    "1) Looking at the validation accuracy score (F1), Logistic Regression tends to perform fair compared to Naive Bayes and Support Vector.\n",
    "\n",
    "2) Although validation F1-score for Logistic regression model being around 50%, it is reasonable given the multiple labels we are dealing with in this problem.\n",
    "\n",
    "3) Support Vector classifier tended to overfit the most compared to the other two models.\n",
    "\n",
    "4) Also, looking at the true vs predicted label comparison, logistic regression tended to predict most of the labels fairly accurately. So I will pick Logistic Regression from ML models perspective.\n",
    "\n",
    "5) Another point to note here is we didn't consider the true age values - rather used age groups to run our prediction on. Alternatively, we could perhaps use each of the numerical age values (26 labels for age variable) as one category to see how it fares vs the approach we took here."
   ]
  },
  {
   "cell_type": "markdown",
   "metadata": {
    "id": "_4wdZI8iNVkX"
   },
   "source": [
    "Deep Neural Network"
   ]
  },
  {
   "cell_type": "code",
   "execution_count": 36,
   "metadata": {
    "executionInfo": {
     "elapsed": 1635,
     "status": "ok",
     "timestamp": 1631413582955,
     "user": {
      "displayName": "Sauvik De",
      "photoUrl": "https://lh3.googleusercontent.com/a-/AOh14GjA41mUSR5Vp5tNHz71z1tO7sQJ2j-m0BM_Hp_oww=s64",
      "userId": "18190594405870803779"
     },
     "user_tz": -330
    },
    "id": "bp_aiVwrQM4I"
   },
   "outputs": [],
   "source": [
    "# Define libraries and import Keras functions\n",
    "import tensorflow\n",
    "from tensorflow.keras.models import Sequential\n",
    "from tensorflow.keras.layers import Dense, BatchNormalization, Activation, Dropout\n",
    "from tensorflow.keras.losses import binary_crossentropy\n",
    "from tensorflow.keras.optimizers import Adam\n",
    "from tensorflow.keras.callbacks import ModelCheckpoint, EarlyStopping"
   ]
  },
  {
   "cell_type": "code",
   "execution_count": 37,
   "metadata": {
    "executionInfo": {
     "elapsed": 1845,
     "status": "ok",
     "timestamp": 1631413584793,
     "user": {
      "displayName": "Sauvik De",
      "photoUrl": "https://lh3.googleusercontent.com/a-/AOh14GjA41mUSR5Vp5tNHz71z1tO7sQJ2j-m0BM_Hp_oww=s64",
      "userId": "18190594405870803779"
     },
     "user_tz": -330
    },
    "id": "blQO4XKzEf_j"
   },
   "outputs": [],
   "source": [
    "# Data Preparation\n",
    "# ================\n",
    "# Training (80%) and validation (20%) split\n",
    "df['sign_n_topic'] = df[['sign', 'topic']].values.tolist()\n",
    "X_train, X_val, y_train, y_val = train_test_split(df[['text']], df[['age_gt_17', 'age_gt_27', 'gender_male', 'sign_n_topic']], test_size=0.2, random_state=1)"
   ]
  },
  {
   "cell_type": "code",
   "execution_count": 38,
   "metadata": {
    "executionInfo": {
     "elapsed": 64305,
     "status": "ok",
     "timestamp": 1631413649094,
     "user": {
      "displayName": "Sauvik De",
      "photoUrl": "https://lh3.googleusercontent.com/a-/AOh14GjA41mUSR5Vp5tNHz71z1tO7sQJ2j-m0BM_Hp_oww=s64",
      "userId": "18190594405870803779"
     },
     "user_tz": -330
    },
    "id": "IQAkl85TF4uL"
   },
   "outputs": [],
   "source": [
    "# Feature preparation\n",
    "# Vectorize texts - Bag of Words\n",
    "tiVect = TfidfVectorizer(ngram_range=(1,1), min_df=20, max_df=0.95, max_features=None, stop_words='english') # confined to unigram due to session crash\n",
    "# Compute word vector based on TF-IDF using training dataset\n",
    "X_train_vect = tiVect.fit_transform(X_train['text'])\n",
    "# Compute word vector based on TF-IDF using validation dataset\n",
    "X_val_vect   = tiVect.transform(X_val['text'])"
   ]
  },
  {
   "cell_type": "code",
   "execution_count": 39,
   "metadata": {
    "colab": {
     "base_uri": "https://localhost:8080/"
    },
    "executionInfo": {
     "elapsed": 41,
     "status": "ok",
     "timestamp": 1631413649096,
     "user": {
      "displayName": "Sauvik De",
      "photoUrl": "https://lh3.googleusercontent.com/a-/AOh14GjA41mUSR5Vp5tNHz71z1tO7sQJ2j-m0BM_Hp_oww=s64",
      "userId": "18190594405870803779"
     },
     "user_tz": -330
    },
    "id": "BBx1B7aFIBBO",
    "outputId": "949ca419-af50-47da-a337-dd81193b1ad9"
   },
   "outputs": [
    {
     "name": "stdout",
     "output_type": "stream",
     "text": [
      "Vocabulary count based on training text set: 45571\n"
     ]
    }
   ],
   "source": [
    "print('Vocabulary count based on training text set:', len(tiVect.vocabulary_))"
   ]
  },
  {
   "cell_type": "code",
   "execution_count": 40,
   "metadata": {
    "executionInfo": {
     "elapsed": 6488,
     "status": "ok",
     "timestamp": 1631413655557,
     "user": {
      "displayName": "Sauvik De",
      "photoUrl": "https://lh3.googleusercontent.com/a-/AOh14GjA41mUSR5Vp5tNHz71z1tO7sQJ2j-m0BM_Hp_oww=s64",
      "userId": "18190594405870803779"
     },
     "user_tz": -330
    },
    "id": "utDbnG9UWnPl"
   },
   "outputs": [],
   "source": [
    "# Re-order indices to a re-ordered Sparse tensor\n",
    "coo = X_train_vect.tocoo()\n",
    "indices = np.mat([coo.row, coo.col]).transpose()\n",
    "X_train_tensor_sp_reord = tensorflow.sparse.reorder( tensorflow.SparseTensor(indices, coo.data, coo.shape) )\n",
    "\n",
    "coo = X_val_vect.tocoo()\n",
    "indices = np.mat([coo.row, coo.col]).transpose()\n",
    "X_val_tensor_sp_reord = tensorflow.sparse.reorder( tensorflow.SparseTensor(indices, coo.data, coo.shape) )"
   ]
  },
  {
   "cell_type": "code",
   "execution_count": 41,
   "metadata": {
    "colab": {
     "base_uri": "https://localhost:8080/"
    },
    "executionInfo": {
     "elapsed": 48,
     "status": "ok",
     "timestamp": 1631413655559,
     "user": {
      "displayName": "Sauvik De",
      "photoUrl": "https://lh3.googleusercontent.com/a-/AOh14GjA41mUSR5Vp5tNHz71z1tO7sQJ2j-m0BM_Hp_oww=s64",
      "userId": "18190594405870803779"
     },
     "user_tz": -330
    },
    "id": "KlPdbctWXLjH",
    "outputId": "49b4f883-4a4d-497f-94ad-da84fade8a2f"
   },
   "outputs": [
    {
     "name": "stdout",
     "output_type": "stream",
     "text": [
      "Training feature dimension: (545027, 45571)\n",
      "Validation feature dimension: (136257, 45571)\n"
     ]
    }
   ],
   "source": [
    "# Shape checker\n",
    "print('Training feature dimension:', X_train_tensor_sp_reord.shape)\n",
    "print('Validation feature dimension:', X_val_tensor_sp_reord.shape)"
   ]
  },
  {
   "cell_type": "code",
   "execution_count": 42,
   "metadata": {
    "colab": {
     "base_uri": "https://localhost:8080/"
    },
    "executionInfo": {
     "elapsed": 1613,
     "status": "ok",
     "timestamp": 1631413657138,
     "user": {
      "displayName": "Sauvik De",
      "photoUrl": "https://lh3.googleusercontent.com/a-/AOh14GjA41mUSR5Vp5tNHz71z1tO7sQJ2j-m0BM_Hp_oww=s64",
      "userId": "18190594405870803779"
     },
     "user_tz": -330
    },
    "id": "X3QnUBXG39pr",
    "outputId": "4e0e1d75-51db-4529-daec-4a2badcc0804"
   },
   "outputs": [
    {
     "name": "stdout",
     "output_type": "stream",
     "text": [
      "The new target categories:\n"
     ]
    },
    {
     "data": {
      "text/plain": [
       "array(['age_gt_17', 'age_gt_27', 'gender_male', 'sign_Aquarius',\n",
       "       'sign_Aries', 'sign_Cancer', 'sign_Capricorn', 'sign_Gemini',\n",
       "       'sign_Leo', 'sign_Libra', 'sign_Pisces', 'sign_Sagittarius',\n",
       "       'sign_Scorpio', 'sign_Taurus', 'sign_Virgo', 'topic_Accounting',\n",
       "       'topic_Advertising', 'topic_Agriculture', 'topic_Architecture',\n",
       "       'topic_Arts', 'topic_Automotive', 'topic_Banking', 'topic_Biotech',\n",
       "       'topic_BusinessServices', 'topic_Chemicals',\n",
       "       'topic_Communications-Media', 'topic_Construction',\n",
       "       'topic_Consulting', 'topic_Education', 'topic_Engineering',\n",
       "       'topic_Environment', 'topic_Fashion', 'topic_Government',\n",
       "       'topic_HumanResources', 'topic_Internet',\n",
       "       'topic_InvestmentBanking', 'topic_Law',\n",
       "       'topic_LawEnforcement-Security', 'topic_Manufacturing',\n",
       "       'topic_Maritime', 'topic_Marketing', 'topic_Military',\n",
       "       'topic_Museums-Libraries', 'topic_Non-Profit', 'topic_Publishing',\n",
       "       'topic_RealEstate', 'topic_Religion', 'topic_Science',\n",
       "       'topic_Sports-Recreation', 'topic_Student', 'topic_Technology',\n",
       "       'topic_Telecommunications', 'topic_Tourism',\n",
       "       'topic_Transportation', 'topic_indUnk'], dtype=object)"
      ]
     },
     "execution_count": 42,
     "metadata": {},
     "output_type": "execute_result"
    }
   ],
   "source": [
    "# Target Data preparation\n",
    "# Use two categories for age groups to accommodate for ordering dependency (>17 and >27) for age variable as discussed earlier\n",
    "# Use male indicator for gender variable\n",
    "\n",
    "# Label binarize topic and sign columns\n",
    "mlb = MultiLabelBinarizer()\n",
    "y_train_mlb = mlb.fit_transform(y_train['sign_n_topic'])\n",
    "y_val_mlb   = mlb.transform(y_val['sign_n_topic'])\n",
    "\n",
    "# Combine age and gender columns with binarized topic and sign columns\n",
    "y_train_encoded = np.c_[ np.array(y_train.drop(labels=['sign_n_topic'], axis=1)), y_train_mlb ]\n",
    "y_val_encoded   = np.c_[ np.array(y_val.drop(labels=['sign_n_topic'],   axis=1)), y_val_mlb   ]\n",
    "\n",
    "# Look at the label classes (master list)\n",
    "print('The new target categories:')\n",
    "np.concatenate( [np.array(['age_gt_17', 'age_gt_27', 'gender_male']), mlb.classes_] )"
   ]
  },
  {
   "cell_type": "code",
   "execution_count": 43,
   "metadata": {
    "executionInfo": {
     "elapsed": 19,
     "status": "ok",
     "timestamp": 1631413657140,
     "user": {
      "displayName": "Sauvik De",
      "photoUrl": "https://lh3.googleusercontent.com/a-/AOh14GjA41mUSR5Vp5tNHz71z1tO7sQJ2j-m0BM_Hp_oww=s64",
      "userId": "18190594405870803779"
     },
     "user_tz": -330
    },
    "id": "3qhvLCNy0RMn"
   },
   "outputs": [],
   "source": [
    "# Construct the network architecture \n",
    "model = Sequential()\n",
    "\n",
    "# Add input layer\n",
    "model.add(Dense(256, input_shape=(X_train_vect.shape[1],), kernel_initializer='he_normal', activation='relu'))\n",
    "\n",
    "# Add hidden layers with batch norm and dropout rates\n",
    "model.add(BatchNormalization())\n",
    "model.add(Dense(128, activation='relu'))\n",
    "model.add(Dropout(0.20))\n",
    "\n",
    "model.add(BatchNormalization())\n",
    "model.add(Dense(64, activation='relu'))\n",
    "model.add(Dropout(0.20))\n",
    "\n",
    "model.add(BatchNormalization())\n",
    "model.add(Dense(32, activation='relu'))\n",
    "model.add(Dropout(0.10))\n",
    "\n",
    "model.add(BatchNormalization())\n",
    "model.add(Dense(32, activation='relu'))\n",
    "model.add(Dropout(0.05))\n",
    "\n",
    "# Add output layer\n",
    "model.add(Dense(y_train_encoded.shape[1], activation='sigmoid'))\n",
    "\n",
    "# Compile model\n",
    "model.compile(loss='binary_crossentropy', optimizer=Adam(learning_rate=0.001), metrics='accuracy')"
   ]
  },
  {
   "cell_type": "code",
   "execution_count": 44,
   "metadata": {
    "colab": {
     "base_uri": "https://localhost:8080/"
    },
    "executionInfo": {
     "elapsed": 668,
     "status": "ok",
     "timestamp": 1631413657798,
     "user": {
      "displayName": "Sauvik De",
      "photoUrl": "https://lh3.googleusercontent.com/a-/AOh14GjA41mUSR5Vp5tNHz71z1tO7sQJ2j-m0BM_Hp_oww=s64",
      "userId": "18190594405870803779"
     },
     "user_tz": -330
    },
    "id": "31EjpyySWtRB",
    "outputId": "a3986708-564a-42da-9fb4-4bb4a175bfae"
   },
   "outputs": [
    {
     "name": "stdout",
     "output_type": "stream",
     "text": [
      "Model: \"sequential\"\n",
      "_________________________________________________________________\n",
      "Layer (type)                 Output Shape              Param #   \n",
      "=================================================================\n",
      "dense (Dense)                (None, 256)               11666432  \n",
      "_________________________________________________________________\n",
      "batch_normalization (BatchNo (None, 256)               1024      \n",
      "_________________________________________________________________\n",
      "dense_1 (Dense)              (None, 128)               32896     \n",
      "_________________________________________________________________\n",
      "dropout (Dropout)            (None, 128)               0         \n",
      "_________________________________________________________________\n",
      "batch_normalization_1 (Batch (None, 128)               512       \n",
      "_________________________________________________________________\n",
      "dense_2 (Dense)              (None, 64)                8256      \n",
      "_________________________________________________________________\n",
      "dropout_1 (Dropout)          (None, 64)                0         \n",
      "_________________________________________________________________\n",
      "batch_normalization_2 (Batch (None, 64)                256       \n",
      "_________________________________________________________________\n",
      "dense_3 (Dense)              (None, 32)                2080      \n",
      "_________________________________________________________________\n",
      "dropout_2 (Dropout)          (None, 32)                0         \n",
      "_________________________________________________________________\n",
      "batch_normalization_3 (Batch (None, 32)                128       \n",
      "_________________________________________________________________\n",
      "dense_4 (Dense)              (None, 32)                1056      \n",
      "_________________________________________________________________\n",
      "dropout_3 (Dropout)          (None, 32)                0         \n",
      "_________________________________________________________________\n",
      "dense_5 (Dense)              (None, 55)                1815      \n",
      "=================================================================\n",
      "Total params: 11,714,455\n",
      "Trainable params: 11,713,495\n",
      "Non-trainable params: 960\n",
      "_________________________________________________________________\n"
     ]
    }
   ],
   "source": [
    "model.summary()"
   ]
  },
  {
   "cell_type": "code",
   "execution_count": 45,
   "metadata": {
    "colab": {
     "base_uri": "https://localhost:8080/"
    },
    "executionInfo": {
     "elapsed": 928532,
     "status": "ok",
     "timestamp": 1631414623095,
     "user": {
      "displayName": "Sauvik De",
      "photoUrl": "https://lh3.googleusercontent.com/a-/AOh14GjA41mUSR5Vp5tNHz71z1tO7sQJ2j-m0BM_Hp_oww=s64",
      "userId": "18190594405870803779"
     },
     "user_tz": -330
    },
    "id": "Fwv3c6HYLKZn",
    "outputId": "a45e9ea5-dd9b-4237-ffef-749639d28b60"
   },
   "outputs": [
    {
     "name": "stdout",
     "output_type": "stream",
     "text": [
      "Epoch 1/30\n",
      "4259/4259 [==============================] - 104s 23ms/step - loss: 0.1541 - accuracy: 0.6389 - val_loss: 0.1411 - val_accuracy: 0.6638\n",
      "Epoch 2/30\n",
      "4259/4259 [==============================] - 100s 23ms/step - loss: 0.1391 - accuracy: 0.6668 - val_loss: 0.1378 - val_accuracy: 0.6715\n",
      "Epoch 3/30\n",
      "4259/4259 [==============================] - 100s 23ms/step - loss: 0.1320 - accuracy: 0.6821 - val_loss: 0.1364 - val_accuracy: 0.6697\n",
      "Epoch 4/30\n",
      "4259/4259 [==============================] - 99s 23ms/step - loss: 0.1246 - accuracy: 0.6871 - val_loss: 0.1373 - val_accuracy: 0.6466\n",
      "Epoch 5/30\n",
      "4259/4259 [==============================] - 99s 23ms/step - loss: 0.1182 - accuracy: 0.6787 - val_loss: 0.1398 - val_accuracy: 0.6316\n",
      "Epoch 6/30\n",
      "4259/4259 [==============================] - 99s 23ms/step - loss: 0.1131 - accuracy: 0.6626 - val_loss: 0.1432 - val_accuracy: 0.6104\n",
      "Epoch 7/30\n",
      "4259/4259 [==============================] - 100s 23ms/step - loss: 0.1089 - accuracy: 0.6468 - val_loss: 0.1456 - val_accuracy: 0.5956\n",
      "Epoch 8/30\n",
      "4259/4259 [==============================] - 99s 23ms/step - loss: 0.1055 - accuracy: 0.6341 - val_loss: 0.1480 - val_accuracy: 0.5994\n"
     ]
    }
   ],
   "source": [
    "batch_size=128\n",
    "epochs=30\n",
    "\n",
    "# Set early stopping criteria (i.e., no improvement in validation loss in 5 successive epochs)\n",
    "callback = EarlyStopping(monitor='val_loss', patience=5, restore_best_weights=True, mode='min')\n",
    "\n",
    "# Model Fitting\n",
    "hist = model.fit(X_train_tensor_sp_reord, y_train_encoded\n",
    "                , batch_size=batch_size\n",
    "                , epochs=epochs\n",
    "                , verbose=1\n",
    "                , validation_data=(X_val_tensor_sp_reord, y_val_encoded)\n",
    "                , callbacks=[callback]\n",
    "               )"
   ]
  },
  {
   "cell_type": "code",
   "execution_count": 46,
   "metadata": {
    "colab": {
     "base_uri": "https://localhost:8080/",
     "height": 369
    },
    "executionInfo": {
     "elapsed": 1185,
     "status": "ok",
     "timestamp": 1631414667218,
     "user": {
      "displayName": "Sauvik De",
      "photoUrl": "https://lh3.googleusercontent.com/a-/AOh14GjA41mUSR5Vp5tNHz71z1tO7sQJ2j-m0BM_Hp_oww=s64",
      "userId": "18190594405870803779"
     },
     "user_tz": -330
    },
    "id": "fM1iDyhd1v4t",
    "outputId": "d0713522-3b99-4968-e80c-ceeae4d62fb0"
   },
   "outputs": [
    {
     "data": {
      "image/png": "[encoded data removed]",
      "text/plain": [
       "<Figure size 1152x360 with 2 Axes>"
      ]
     },
     "metadata": {
      "needs_background": "light"
     },
     "output_type": "display_data"
    }
   ],
   "source": [
    "import matplotlib.pyplot as plt\n",
    "\n",
    "plt.figure(figsize=(16,5))\n",
    "# History of accuracy score\n",
    "plt.subplot(1, 2, 1)\n",
    "plt.plot(hist.history['accuracy'])\n",
    "plt.plot(hist.history['val_accuracy'])\n",
    "plt.title('Evolution of model accuracy score by epochs')\n",
    "plt.ylabel('accuracy_score')\n",
    "plt.xlabel('epoch')\n",
    "plt.legend(['Train', 'Validation'], loc='lower right')\n",
    "#---------------------------------\n",
    "# History of Loss\n",
    "plt.subplot(1, 2, 2)\n",
    "plt.plot(hist.history['loss'])\n",
    "plt.plot(hist.history['val_loss'])\n",
    "plt.title('Evolution of Loss (Categorical Cross-Entropy) by epochs')\n",
    "plt.ylabel('loss')\n",
    "plt.xlabel('epoch')\n",
    "plt.legend(['Train', 'Validation'], loc='upper right')\n",
    "plt.tight_layout()"
   ]
  },
  {
   "cell_type": "code",
   "execution_count": 52,
   "metadata": {
    "colab": {
     "base_uri": "https://localhost:8080/"
    },
    "executionInfo": {
     "elapsed": 19487,
     "status": "ok",
     "timestamp": 1631415049967,
     "user": {
      "displayName": "Sauvik De",
      "photoUrl": "https://lh3.googleusercontent.com/a-/AOh14GjA41mUSR5Vp5tNHz71z1tO7sQJ2j-m0BM_Hp_oww=s64",
      "userId": "18190594405870803779"
     },
     "user_tz": -330
    },
    "id": "7gYFAn3e5JVO",
    "outputId": "8bc24316-b453-4cb5-a959-5d751df2783d"
   },
   "outputs": [
    {
     "name": "stdout",
     "output_type": "stream",
     "text": [
      "Classification report based on Deep Learning:\n",
      "                               precision    recall  f1-score   support\n",
      "\n",
      "                    age_gt_17       0.85      0.92      0.89     89045\n",
      "                    age_gt_27       0.67      0.33      0.44     24665\n",
      "                  gender_male       0.70      0.76      0.73     69307\n",
      "                sign_Aquarius       0.62      0.01      0.01      9742\n",
      "                   sign_Aries       0.77      0.04      0.07     13041\n",
      "                  sign_Cancer       0.88      0.06      0.12     13233\n",
      "               sign_Capricorn       0.00      0.00      0.00      9841\n",
      "                  sign_Gemini       0.00      0.00      0.00     10456\n",
      "                     sign_Leo       1.00      0.00      0.00     10714\n",
      "                   sign_Libra       0.63      0.00      0.00     12264\n",
      "                  sign_Pisces       1.00      0.01      0.02     10818\n",
      "             sign_Sagittarius       0.41      0.00      0.00     10079\n",
      "                 sign_Scorpio       0.00      0.00      0.00     11336\n",
      "                  sign_Taurus       0.97      0.00      0.01     12617\n",
      "                   sign_Virgo       0.00      0.00      0.00     12116\n",
      "             topic_Accounting       0.47      0.08      0.13       758\n",
      "            topic_Advertising       0.00      0.00      0.00       926\n",
      "            topic_Agriculture       0.00      0.00      0.00       254\n",
      "           topic_Architecture       0.00      0.00      0.00       347\n",
      "                   topic_Arts       0.92      0.04      0.08      6505\n",
      "             topic_Automotive       0.00      0.00      0.00       262\n",
      "                topic_Banking       0.00      0.00      0.00       781\n",
      "                topic_Biotech       0.00      0.00      0.00       435\n",
      "       topic_BusinessServices       1.00      0.00      0.00       864\n",
      "              topic_Chemicals       0.00      0.00      0.00       799\n",
      "   topic_Communications-Media       0.00      0.00      0.00      4059\n",
      "           topic_Construction       0.00      0.00      0.00       242\n",
      "             topic_Consulting       0.00      0.00      0.00      1180\n",
      "              topic_Education       0.84      0.01      0.03      5892\n",
      "            topic_Engineering       0.85      0.04      0.07      2315\n",
      "            topic_Environment       0.00      0.00      0.00       120\n",
      "                topic_Fashion       0.94      0.19      0.31       956\n",
      "             topic_Government       0.00      0.00      0.00      1430\n",
      "         topic_HumanResources       0.00      0.00      0.00       606\n",
      "               topic_Internet       0.00      0.00      0.00      3228\n",
      "      topic_InvestmentBanking       0.00      0.00      0.00       285\n",
      "                    topic_Law       0.00      0.00      0.00      1860\n",
      "topic_LawEnforcement-Security       0.00      0.00      0.00       371\n",
      "          topic_Manufacturing       0.00      0.00      0.00       486\n",
      "               topic_Maritime       0.00      0.00      0.00        51\n",
      "              topic_Marketing       0.00      0.00      0.00       925\n",
      "               topic_Military       0.00      0.00      0.00       598\n",
      "      topic_Museums-Libraries       0.00      0.00      0.00       583\n",
      "             topic_Non-Profit       0.00      0.00      0.00      2942\n",
      "             topic_Publishing       0.95      0.09      0.16      1543\n",
      "             topic_RealEstate       0.00      0.00      0.00       604\n",
      "               topic_Religion       0.00      0.00      0.00      1017\n",
      "                topic_Science       0.00      0.00      0.00      1517\n",
      "      topic_Sports-Recreation       0.00      0.00      0.00       581\n",
      "                topic_Student       0.63      0.29      0.39     30851\n",
      "             topic_Technology       0.70      0.11      0.18      8404\n",
      "     topic_Telecommunications       0.00      0.00      0.00       777\n",
      "                topic_Tourism       0.00      0.00      0.00       403\n",
      "         topic_Transportation       1.00      0.15      0.27       463\n",
      "                 topic_indUnk       0.58      0.29      0.39     50037\n",
      "\n",
      "                    micro avg       0.75      0.37      0.50    455531\n",
      "                    macro avg       0.32      0.06      0.08    455531\n",
      "                 weighted avg       0.63      0.37      0.39    455531\n",
      "                  samples avg       0.70      0.35      0.45    455531\n",
      "\n"
     ]
    }
   ],
   "source": [
    "# Prediction and Classification report based on DNN model ...\n",
    "y_val_pred = model.predict(X_val_tensor_sp_reord)\n",
    "y_val_pred_bin = np.where(y_val_pred > 0.50, 1, 0)\n",
    "\n",
    "print('Classification report based on Deep Learning:')\n",
    "print(classification_report(y_val_encoded, y_val_pred_bin, target_names=np.concatenate( [np.array(['age_gt_17', 'age_gt_27', 'gender_male']), mlb.classes_] )))"
   ]
  },
  {
   "cell_type": "code",
   "execution_count": 53,
   "metadata": {
    "executionInfo": {
     "elapsed": 384,
     "status": "ok",
     "timestamp": 1631415156637,
     "user": {
      "displayName": "Sauvik De",
      "photoUrl": "https://lh3.googleusercontent.com/a-/AOh14GjA41mUSR5Vp5tNHz71z1tO7sQJ2j-m0BM_Hp_oww=s64",
      "userId": "18190594405870803779"
     },
     "user_tz": -330
    },
    "id": "-b1QEa99eDoy"
   },
   "outputs": [],
   "source": [
    "# Prepare for Label Prediction ... \n",
    "\n",
    "# probability: age<17, age[18,27], age>27, male, sign_*, topic_*\n",
    "# Note this order must match with the order as in ...\n",
    "# ... np.concatenate( [np.array(['age_gt_17', 'age_gt_27', 'female', 'male']), mlb.classes_] )\n",
    "\n",
    "y_val_pred_prob = np.c_[1-y_val_pred[:,0]                   #P[Youngest] = P[age<=17] = 1 - P[age>17]\n",
    "                        , y_val_pred[:,0] - y_val_pred[:,1] #P[Adult] = P[17<age<=27] = P[age>17] - P[age>27]\n",
    "                        , y_val_pred[:,1]                   #P[Elderly] = P[age>27]\n",
    "                        , y_val_pred[:,2]                   #P[male]\n",
    "                        , y_val_pred[:,3:]]                 #Rest of the class probabilities"
   ]
  },
  {
   "cell_type": "code",
   "execution_count": 54,
   "metadata": {
    "executionInfo": {
     "elapsed": 573,
     "status": "ok",
     "timestamp": 1631415169831,
     "user": {
      "displayName": "Sauvik De",
      "photoUrl": "https://lh3.googleusercontent.com/a-/AOh14GjA41mUSR5Vp5tNHz71z1tO7sQJ2j-m0BM_Hp_oww=s64",
      "userId": "18190594405870803779"
     },
     "user_tz": -330
    },
    "id": "29-ZtURXxi8Y"
   },
   "outputs": [],
   "source": [
    "# Prepare actual target labels\n",
    "ageGrp = np.where(y_val['age_gt_27']==1, 'Elderly', np.where(y_val['age_gt_17']==1, 'Adult', 'Youngest'))\n",
    "\n",
    "gender = np.where(y_val['gender_male']==1, 'Male', 'Female')\n",
    "\n",
    "y_true_val = [list((i[0], i[1], i[2][0], i[2][1])) for i in np.c_[ageGrp, gender, y_val['sign_n_topic']]]"
   ]
  },
  {
   "cell_type": "code",
   "execution_count": 55,
   "metadata": {
    "executionInfo": {
     "elapsed": 424,
     "status": "ok",
     "timestamp": 1631415181735,
     "user": {
      "displayName": "Sauvik De",
      "photoUrl": "https://lh3.googleusercontent.com/a-/AOh14GjA41mUSR5Vp5tNHz71z1tO7sQJ2j-m0BM_Hp_oww=s64",
      "userId": "18190594405870803779"
     },
     "user_tz": -330
    },
    "id": "yXuFsiDje5Qb"
   },
   "outputs": [],
   "source": [
    "# Prepare predicted labels\n",
    "ageGrp = np.argmax(y_val_pred_prob[:,:3], axis=1)\n",
    "ageGrp = np.where(ageGrp == 0, 'Youngest', np.where(ageGrp == 1, 'Adult', 'Elderly'))\n",
    "\n",
    "gender = np.where(y_val_pred_prob[:, 3] > 0.5, 'Male', 'Female')\n",
    "\n",
    "#mlb.inverse_transform(np.where(y_val_pred_prob[:, 4:]>0.5, 1, 0))\n",
    "\n",
    "# First 12 labels are from Sign\n",
    "sign = mlb.classes_[np.argmax(y_val_pred_prob[:, 4:16], axis=1)]\n",
    "\n",
    "# Next 40 labels are from Topic\n",
    "topic = mlb.classes_[12 + np.argmax(y_val_pred_prob[:, 16:], axis=1)]\n",
    "\n",
    "y_pred_val = np.c_[ageGrp, gender, sign, topic]"
   ]
  },
  {
   "cell_type": "code",
   "execution_count": 56,
   "metadata": {
    "colab": {
     "base_uri": "https://localhost:8080/"
    },
    "executionInfo": {
     "elapsed": 418,
     "status": "ok",
     "timestamp": 1631415187362,
     "user": {
      "displayName": "Sauvik De",
      "photoUrl": "https://lh3.googleusercontent.com/a-/AOh14GjA41mUSR5Vp5tNHz71z1tO7sQJ2j-m0BM_Hp_oww=s64",
      "userId": "18190594405870803779"
     },
     "user_tz": -330
    },
    "id": "95hZ4yhBppOj",
    "outputId": "7e8b12fe-64f1-40ec-f039-5520c61d19f0"
   },
   "outputs": [
    {
     "name": "stdout",
     "output_type": "stream",
     "text": [
      "Validation sample #: 92016\n",
      "True labels: ['Youngest', 'Female', 'sign_Leo', 'topic_Student']\n",
      "Predicted labels: ['Youngest', 'Female', 'sign_Virgo', 'topic_Student']\n",
      "\n",
      "\n",
      "Validation sample #: 46819\n",
      "True labels: ['Elderly', 'Male', 'sign_Aquarius', 'topic_indUnk']\n",
      "Predicted labels: ['Adult', 'Male', 'sign_Aries', 'topic_indUnk']\n",
      "\n",
      "\n",
      "Validation sample #: 59439\n",
      "True labels: ['Adult', 'Male', 'sign_Leo', 'topic_Technology']\n",
      "Predicted labels: ['Adult', 'Male', 'sign_Aries', 'topic_indUnk']\n",
      "\n",
      "\n",
      "Validation sample #: 43470\n",
      "True labels: ['Youngest', 'Female', 'sign_Libra', 'topic_Student']\n",
      "Predicted labels: ['Youngest', 'Male', 'sign_Cancer', 'topic_Student']\n",
      "\n",
      "\n",
      "Validation sample #: 79902\n",
      "True labels: ['Adult', 'Female', 'sign_Sagittarius', 'topic_Banking']\n",
      "Predicted labels: ['Adult', 'Female', 'sign_Taurus', 'topic_indUnk']\n",
      "\n",
      "\n"
     ]
    }
   ],
   "source": [
    "# Test on Validation set: actual vs predicton for 5 random samples:\n",
    "import random\n",
    "\n",
    "for i in range(0,5):\n",
    "  n = random.choice(range(0, len(y_true_val)))\n",
    "\n",
    "  print('Validation sample #:', n)\n",
    "  print('True labels:', list(y_true_val[n]))\n",
    "  print('Predicted labels:', list(y_pred_val[n]))\n",
    "  print('\\n')"
   ]
  },
  {
   "cell_type": "markdown",
   "metadata": {
    "id": "M75v4ggTdJ8k"
   },
   "source": [
    "1. I tried couple of iterations with hyperparameter tuning with Deep Neural Network. The results (similar to the above one) don't seem to vary too much across the board, i.e., the validation loss doesn't tend to decrease over epochs.\n",
    "2. Accuracy doesn't bear great significance in this setting as we have multiple labels for each example. From F1-score perspective, it is no better than the result of Logistic regression.\n",
    "3. Probably the next logical step would be to try fitting the model for individual target set to see how results look like. That is, using the same neural network model (input bag of words, or word2vec) to fit a) Age (regression), b) Gender (binary classification), c) Sign (multilabel classification with sigmoid activation), d) Topic (multilabel classification with sigmoid activation)."
   ]
  },
  {
   "cell_type": "markdown",
   "metadata": {
    "id": "Vbzj-tjR1v4v"
   },
   "source": [
    "## <center><font color='green'>*******End of Project Solution*******</font></center>"
   ]
  }
 ],
 "metadata": {
  "accelerator": "GPU",
  "colab": {
   "collapsed_sections": [],
   "name": "BlogClassifier_NLP_Project_1.ipynb",
   "provenance": []
  },
  "kernelspec": {
   "display_name": "Python 3",
   "language": "python",
   "name": "python3"
  },
  "language_info": {
   "codemirror_mode": {
    "name": "ipython",
    "version": 3
   },
   "file_extension": ".py",
   "mimetype": "text/x-python",
   "name": "python",
   "nbconvert_exporter": "python",
   "pygments_lexer": "ipython3",
   "version": "3.9.5"
  }
 },
 "nbformat": 4,
 "nbformat_minor": 1
}
